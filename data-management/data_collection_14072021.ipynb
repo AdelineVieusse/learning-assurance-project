{
 "cells": [
  {
   "cell_type": "markdown",
   "metadata": {},
   "source": [
    "# Data Collection"
   ]
  },
  {
   "cell_type": "markdown",
   "metadata": {},
   "source": [
    "### Import required libraries"
   ]
  },
  {
   "cell_type": "code",
   "execution_count": null,
   "metadata": {},
   "outputs": [],
   "source": [
    "import traitlets\n",
    "import ipywidgets.widgets as widgets\n",
    "from IPython.display import display\n",
    "from jetbot import Camera, bgr8_to_jpeg\n",
    "import os\n",
    "import pandas as pd\n",
    "from uuid import uuid1\n",
    "from datetime import datetime\n",
    "from datetime import date\n",
    "import hashlib\n",
    "from jetbot import Robot\n"
   ]
  },
  {
   "cell_type": "markdown",
   "metadata": {},
   "source": [
    "### Display live camera feed"
   ]
  },
  {
   "cell_type": "code",
   "execution_count": null,
   "metadata": {
    "scrolled": true
   },
   "outputs": [],
   "source": [
    "image_resolution = 224\n",
    "\n",
    "camera = Camera.instance(width=image_resolution, height=image_resolution, fps = 2)\n",
    "\n",
    "image = widgets.Image(format='jpeg', width=image_resolution, height=image_resolution)  # this width and height doesn't necessarily have to match the camera\n",
    "\n",
    "camera_link = traitlets.dlink((camera, 'value'), (image, 'value'), transform=bgr8_to_jpeg)\n",
    "\n",
    "display(image)\n"
   ]
  },
  {
   "cell_type": "markdown",
   "metadata": {},
   "source": [
    "### Create directories + dataframe to store the data"
   ]
  },
  {
   "cell_type": "code",
   "execution_count": null,
   "metadata": {},
   "outputs": [],
   "source": [
    "# Create an empty dataframe to store the data related to the images\n",
    "image_param_column_list = ['UUID','DATE','TIME','HOLDING_POINT', 'EDGE ROTATION', 'EDGE DIST', 'EDGE ANGLE','SIDE',  'MARKING', ' LIGHT', 'LONG DIST', 'LAT DIST', 'ANGLE','SHA256']\n",
    "image_param_df = pd.DataFrame(columns=image_param_column_list)\n",
    "\n",
    "# Create the empty directories to store the data\n",
    "holdingpoint_dir = 'dataset/holdingpoint'\n",
    "noholdingpoint_dir = 'dataset/noholdingpoint'\n",
    "hash_block_size = 65536\n",
    "\n",
    "try:\n",
    "    os.makedirs(noholdingpoint_dir)\n",
    "    os.makedirs(holdingpoint_dir)\n",
    "except FileExistsError:\n",
    "    print('Directories not created because they already exist')"
   ]
  },
  {
   "cell_type": "markdown",
   "metadata": {},
   "source": [
    "### Initialise variables"
   ]
  },
  {
   "cell_type": "code",
   "execution_count": null,
   "metadata": {},
   "outputs": [],
   "source": [
    "longitudinal_distance_range = 60\n",
    "lateral_distance_range = 60\n",
    "axis_angle_range = 90\n",
    "lateral_distance_step = 15\n",
    "longitudinal_distance_step = 15\n",
    "axis_angle_step = 22.5\n",
    "longitudinal_distance = 0\n",
    "lateral_distance = 0\n",
    "axis_angle = 0\n",
    "\n",
    "button_layout = widgets.Layout(width='128px', height='64px')\n",
    "text_layout = widgets.Layout(width='200px', height='64px')"
   ]
  },
  {
   "cell_type": "markdown",
   "metadata": {},
   "source": [
    "### Prepare Interface"
   ]
  },
  {
   "cell_type": "code",
   "execution_count": null,
   "metadata": {},
   "outputs": [],
   "source": [
    "# General parameters setting interface\n",
    "\n",
    "# Dropdown to select the marking colour\n",
    "marking_selection = widgets.Dropdown(\n",
    "    options=[('TRG1',0), ('TRG2',1),('TRG3',2), \n",
    "            ('TRG4',3), ('VAL1',4),('VAL2',5),\n",
    "            ('TEST1',6), ('TEST2',7)],\n",
    "    value=0,\n",
    "    description='Marking:',\n",
    "    disabled=False,\n",
    ")\n",
    "\n",
    "# Radiobutton to select the lighting conditions\n",
    "lighting_selection = widgets.RadioButtons(\n",
    "    options=[('Light',0), ('Dark',1)],\n",
    "    description='Lighting:',\n",
    "    disabled=False\n",
    ")\n",
    "\n",
    "# Radiobutton to select on which side of the robot the marking is located\n",
    "side_selection = widgets.RadioButtons(\n",
    "    options=[('LHS',0), ('RHS',1)],\n",
    "    description='Holding point side:',\n",
    "    disabled=False\n",
    ")\n",
    "\n",
    "# Radiobutton to indicate the rotation of the enclosure\n",
    "edge_rotation_selection = widgets.RadioButtons(\n",
    "    options=[('Initial',0), ('1/3 turn',1), ('2/3 turn',2)],\n",
    "    description='Edge rotation:',\n",
    "    disabled=False\n",
    ")\n",
    "\n",
    "# Radiobutton to indicate the distance between the marking en the enclosure's edge\n",
    "edge_distance_selection = widgets.RadioButtons(\n",
    "    options=[('Less than 25cm',0), ('More than 25cm',1)],\n",
    "    description='Holding point distance from edge:',\n",
    "    disabled=False\n",
    ")\n",
    "\n",
    "# Radiobutton to indicate the angle between the marking en the enclosure's edge\n",
    "edge_angle_selection = widgets.RadioButtons(\n",
    "    options=[('Parallel',0), ('Not parallel',1)],\n",
    "    description='Holding point angle with edge:',\n",
    "    disabled=False\n",
    ")\n",
    "\n",
    "# Grid parameters setting interface\n",
    "longitudinal_distance_display = widgets.IntText(description='Longitudinal distance', layout=text_layout, value=longitudinal_distance)\n",
    "lateral_distance_display = widgets.IntText(description='Lateral distance', layout=text_layout, value=lateral_distance)\n",
    "axis_angle_display = widgets.IntText(description='Axis angle', layout=text_layout, value=axis_angle)\n",
    "\n",
    "# Data collection buttons interface\n",
    "noholdingpoint_button = widgets.Button(description='No holding point', button_style='success', layout=button_layout)\n",
    "holdingpoint_button = widgets.Button(description='Holding point', button_style='danger', layout=button_layout)\n",
    "pass_button = widgets.Button(description='Pass',button_style='info', layout=button_layout)\n",
    "\n",
    "noholdingpoint_count = widgets.IntText(layout=button_layout, value=len(os.listdir(noholdingpoint_dir)))\n",
    "holdingpoint_count = widgets.IntText(layout=button_layout, value=len(os.listdir(holdingpoint_dir)))\n"
   ]
  },
  {
   "cell_type": "markdown",
   "metadata": {},
   "source": [
    "### Define functions"
   ]
  },
  {
   "cell_type": "code",
   "execution_count": null,
   "metadata": {},
   "outputs": [],
   "source": [
    "# Define function to save the image to a directory\n",
    "def save_snapshot(directory, fileid):\n",
    "    image_path = os.path.join(directory, str(fileid) + '.jpg')\n",
    "    with open(image_path, 'wb') as f:\n",
    "        f.write(image.value)\n",
    "\n",
    "# Define function to compute the hash of a file\n",
    "def generate_hash(directory, fileid):\n",
    "    image_path = os.path.join(directory, str(fileid) + '.jpg')\n",
    "    file_hash = hashlib.sha256()\n",
    "    with open(image_path, 'rb') as f:\n",
    "        fb = f.read(hash_block_size) \n",
    "        while len(fb) > 0: \n",
    "            file_hash.update(fb)\n",
    "            fb = f.read(hash_block_size)\n",
    "    return file_hash.hexdigest()  \n",
    "\n",
    "# Define function to save the \"operating parameters\" to a dataframe\n",
    "def save_parameters(fid, date, time, holdingpoint, edge_rotation, edge_dist, edge_angle, side, marking, lighting, long_dist, lat_dist, angle,fhash):\n",
    "    global image_param_column_list, image_param_df\n",
    "    temp_df = pd.DataFrame([[fid, date, time, holdingpoint, edge_rotation, edge_dist, edge_angle, side, marking, lighting, long_dist, lat_dist, angle,fhash]], columns=image_param_column_list)\n",
    "    image_param_df = image_param_df.append(temp_df)\n",
    "    pass\n",
    "\n",
    "# Define a function to move on the grid pattern \n",
    "# (5 angles at each position, from 0 to 600mm every 150mm laterally and longitudinally)\n",
    "def grid_pattern():\n",
    "    global longitudinal_distance, lateral_distance, axis_angle\n",
    "    cycle_completed = 0\n",
    "    if axis_angle == axis_angle_range:\n",
    "        axis_angle = 0\n",
    "        if longitudinal_distance == longitudinal_distance_range:\n",
    "            longitudinal_distance = 0\n",
    "            if lateral_distance == lateral_distance_range:\n",
    "                lateral_distance = 0\n",
    "            else:\n",
    "                lateral_distance = lateral_distance + lateral_distance_step\n",
    "        else:\n",
    "            longitudinal_distance = longitudinal_distance + longitudinal_distance_step\n",
    "    else:\n",
    "        axis_angle = axis_angle + axis_angle_step\n",
    "    longitudinal_distance_display.value = longitudinal_distance\n",
    "    lateral_distance_display.value = lateral_distance\n",
    "    axis_angle_display.value = axis_angle\n",
    "\n",
    "# Define function to save an image to the noholdingpoint directory\n",
    "# and store the corresponding parameters in a dataframe\n",
    "def save_noholdingpoint():\n",
    "    global noholdingpoint_dir, noholdingpoint_count\n",
    "    global edge_rotation_selection, edge_distance_selection, edge_angle_selection\n",
    "    global side_selection, marking_selection, lighting_selection\n",
    "    global longitudinal_distance, lateral_distance, axis_angle\n",
    "    fileid = uuid1()\n",
    "    date_now = str(date.today())\n",
    "    time_now = datetime.now().strftime(\"%H:%M:%S\")\n",
    "    save_snapshot(noholdingpoint_dir, fileid)\n",
    "    file_hash =  generate_hash(noholdingpoint_dir, fileid)\n",
    "    save_parameters(fileid, date_now, time_now, 0, edge_rotation_selection.value, edge_distance_selection.value, edge_angle_selection.value, side_selection.value, marking_selection.value, lighting_selection.value, longitudinal_distance, lateral_distance, axis_angle, file_hash)\n",
    "    noholdingpoint_count.value = len(os.listdir(noholdingpoint_dir))\n",
    "    grid_pattern()\n",
    "\n",
    "# Define function to save an image to the holdingpoint directory\n",
    "# and store the corresponding parameters in a dataframe\n",
    "def save_holdingpoint():\n",
    "    global holdingpoint_dir, holdingpoint_count\n",
    "    global edge_rotation_selection, edge_distance_selection, edge_angle_selection\n",
    "    global side_selection, marking_selection, lighting_selection\n",
    "    global longitudinal_distance, lateral_distance, axis_angle\n",
    "    fileid = uuid1()\n",
    "    date_now = str(date.today())\n",
    "    time_now = datetime.now().strftime(\"%H:%M:%S\")\n",
    "    save_snapshot(holdingpoint_dir, fileid)\n",
    "    file_hash =  generate_hash(holdingpoint_dir, fileid)\n",
    "    save_parameters(fileid, date_now, time_now, 1, edge_rotation_selection.value, edge_distance_selection.value, edge_angle_selection.value, side_selection.value, marking_selection.value, lighting_selection.value, longitudinal_distance, lateral_distance, axis_angle, file_hash)\n",
    "    holdingpoint_count.value = len(os.listdir(holdingpoint_dir))\n",
    "    grid_pattern()\n",
    "    \n",
    "# Define function to \"pass\" (i.e. the picture cannot be taken for example if the grid pattern goes \n",
    "# outside of the enclosure...) and store the corresponding parameters in a dataframe\n",
    "def save_pass():\n",
    "    global marking_selection, lighting_selection\n",
    "    global longitudinal_distance, lateral_distance, axis_angle\n",
    "    date_now = str(date.today())\n",
    "    time_now = datetime.now().strftime(\"%H:%M:%S\")   \n",
    "    save_parameters(\"NA\", date_now, time_now, 0, edge_rotation_selection.value, edge_distance_selection.value, edge_angle_selection.value, side_selection.value, marking_selection.value, lighting_selection.value, longitudinal_distance, lateral_distance, axis_angle, \"NA\")\n",
    "    grid_pattern()\n",
    "\n",
    "# Define function to save an image to the noholdingpoint directory when using the remote control\n",
    "# instead of the Jupyter Notebook interface\n",
    "def save_noholding_point_ctrl(change):\n",
    "    if change['new']:\n",
    "        save_noholdingpoint()\n",
    "    "
   ]
  },
  {
   "cell_type": "markdown",
   "metadata": {},
   "source": [
    "### Set-up Controller"
   ]
  },
  {
   "cell_type": "code",
   "execution_count": null,
   "metadata": {},
   "outputs": [],
   "source": [
    "# Set up remote control (gamepad)\n",
    "controller = widgets.Controller(index=0)  \n",
    "display(controller)"
   ]
  },
  {
   "cell_type": "code",
   "execution_count": null,
   "metadata": {},
   "outputs": [],
   "source": [
    "# Create robot instance\n",
    "robot = Robot()\n",
    "\n",
    "# Define controller functions to move the robot\n",
    "fwd_left_link = traitlets.dlink((controller.buttons[12], 'value'), (robot.left_motor, 'value'), transform=lambda x: x/8)\n",
    "fwd_right_link = traitlets.dlink((controller.buttons[12], 'value'), (robot.right_motor, 'value'), transform=lambda x: x/8)\n",
    "\n",
    "bck_left_link = traitlets.dlink((controller.buttons[13], 'value'), (robot.left_motor, 'value'), transform=lambda x: -x/8)\n",
    "bck_right_link = traitlets.dlink((controller.buttons[13], 'value'), (robot.right_motor, 'value'), transform=lambda x: -x/8)\n",
    "\n",
    "turn_left_left_link = traitlets.dlink((controller.buttons[14], 'value'), (robot.left_motor, 'value'), transform=lambda x: -x/8)\n",
    "turn_left_right_link = traitlets.dlink((controller.buttons[14], 'value'), (robot.right_motor, 'value'), transform=lambda x: x/8)\n",
    "\n",
    "turn_right_left_link = traitlets.dlink((controller.buttons[15], 'value'), (robot.left_motor, 'value'), transform=lambda x: x/8)\n",
    "turn_right_right_link = traitlets.dlink((controller.buttons[15], 'value'), (robot.right_motor, 'value'), transform=lambda x: -x/8)"
   ]
  },
  {
   "cell_type": "code",
   "execution_count": null,
   "metadata": {},
   "outputs": [],
   "source": [
    "# Define button to save image in noholdingpont folder\n",
    "controller.buttons[7].observe(save_noholding_point_ctrl, names='value')"
   ]
  },
  {
   "cell_type": "markdown",
   "metadata": {},
   "source": [
    "### Collect data"
   ]
  },
  {
   "cell_type": "code",
   "execution_count": null,
   "metadata": {},
   "outputs": [],
   "source": [
    "# Display all controls\n",
    "display(widgets.HBox([marking_selection, edge_rotation_selection]))\n",
    "display(widgets.HBox([lighting_selection, edge_distance_selection]))\n",
    "display(widgets.HBox([side_selection,edge_angle_selection]))\n",
    "\n",
    "display(widgets.HBox([longitudinal_distance_display, lateral_distance_display]))\n",
    "display(widgets.HBox([axis_angle_display]))\n",
    "\n",
    "display(widgets.HBox([holdingpoint_button, holdingpoint_count, pass_button]))\n",
    "display(widgets.HBox([noholdingpoint_button,noholdingpoint_count]))\n",
    "\n",
    "display(image, width = image_resolution, height = image_resolution)\n",
    "\n",
    "# Save images and information in .csv file depending on which button is pressed by operator \n",
    "noholdingpoint_button.on_click(lambda x: save_noholdingpoint())\n",
    "holdingpoint_button.on_click(lambda x: save_holdingpoint())\n",
    "pass_button.on_click(lambda x: save_pass())\n",
    "\n",
    "\n"
   ]
  },
  {
   "cell_type": "markdown",
   "metadata": {},
   "source": [
    "### Save Image parameters to dedicated .csv file"
   ]
  },
  {
   "cell_type": "code",
   "execution_count": null,
   "metadata": {},
   "outputs": [],
   "source": [
    "# Save content of dataframe (i.e. all operating parameters for all pictures) to a .csv file\n",
    "now = datetime.now().strftime(\"%d%m%Y_%H%M%S\")\n",
    "image_param_df.to_csv('dataset/Image_Parameters_' + now + '.csv')\n",
    "\n",
    "image_param_file_hash = hashlib.sha512()\n",
    "with open('dataset/Image_Parameters_' + now + '.csv', 'rb') as f:\n",
    "    fb = f.read(hash_block_size) \n",
    "    while len(fb) > 0: \n",
    "        image_param_file_hash.update(fb)\n",
    "        fb = f.read(hash_block_size)\n",
    "image_param_file_hash_file = open('dataset/Image_Parameters_' + now + '_hash.txt', \"w\")\n",
    "image_param_file_hash_file.write(image_param_file_hash.hexdigest())\n",
    "image_param_file_hash_file.close()\n",
    "        "
   ]
  },
  {
   "cell_type": "markdown",
   "metadata": {},
   "source": [
    "### Zip dataset folder for export"
   ]
  },
  {
   "cell_type": "code",
   "execution_count": null,
   "metadata": {},
   "outputs": [],
   "source": [
    "# Generate zip file of images and .csv file for export\n",
    "!zip -r -q dataset.zip dataset\n"
   ]
  },
  {
   "cell_type": "code",
   "execution_count": null,
   "metadata": {},
   "outputs": [],
   "source": [
    "# Compute hash for overall .csv file\n",
    "dataset_hash = hashlib.sha512()\n",
    "with open(\"dataset.zip\", 'rb') as f:\n",
    "    fb = f.read(hash_block_size) \n",
    "    while len(fb) > 0: \n",
    "        dataset_hash.update(fb)\n",
    "        fb = f.read(hash_block_size)\n",
    "dataset_hash.hexdigest()\n",
    "\n",
    "dataset_hash_file = open(\"dataset_hash.txt\", \"w\")\n",
    "dataset_hash_file.write(dataset_hash.hexdigest())\n",
    "dataset_hash_file.close()"
   ]
  },
  {
   "cell_type": "code",
   "execution_count": null,
   "metadata": {},
   "outputs": [],
   "source": [
    "# Colse al conections with robot\n",
    "camera_link.unlink()\n",
    "fwd_left_link.unlink()\n",
    "fwd_right_link.unlink()\n",
    "bck_left_link.unlink()\n",
    "bck_right_link.unlink()\n",
    "turn_left_left_link.unlink()\n",
    "turn_left_right_link.unlink()\n",
    "turn_right_left_link.unlink()\n",
    "turn_right_right_link.unlink()\n"
   ]
  }
 ],
 "metadata": {
  "kernelspec": {
   "display_name": "Python 3",
   "language": "python",
   "name": "python3"
  },
  "language_info": {
   "codemirror_mode": {
    "name": "ipython",
    "version": 3
   },
   "file_extension": ".py",
   "mimetype": "text/x-python",
   "name": "python",
   "nbconvert_exporter": "python",
   "pygments_lexer": "ipython3",
   "version": "3.8.5"
  }
 },
 "nbformat": 4,
 "nbformat_minor": 4
}
