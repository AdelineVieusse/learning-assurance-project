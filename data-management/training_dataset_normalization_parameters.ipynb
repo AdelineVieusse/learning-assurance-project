{
 "cells": [
  {
   "cell_type": "markdown",
   "metadata": {
    "id": "mvChO39wUw1D"
   },
   "source": [
    "# Training Dataset Normalization Parameters"
   ]
  },
  {
   "cell_type": "markdown",
   "metadata": {
    "id": "Wd0dv3flUw1E"
   },
   "source": [
    "### Mount Google Drive"
   ]
  },
  {
   "cell_type": "code",
   "execution_count": null,
   "metadata": {
    "id": "MOryWVOgUw1F"
   },
   "outputs": [],
   "source": [
    "from google.colab import drive\n",
    "drive.mount('/content/drive')"
   ]
  },
  {
   "cell_type": "markdown",
   "metadata": {
    "id": "BXYb3D5CUw1G"
   },
   "source": [
    "### Import required libraries"
   ]
  },
  {
   "cell_type": "code",
   "execution_count": null,
   "metadata": {
    "id": "cXYkRhQKUw1H"
   },
   "outputs": [],
   "source": [
    "import torch\n",
    "import torchvision\n",
    "import torchvision.transforms as transforms\n",
    "import numpy as np\n",
    "import pandas as pd\n",
    "import torch.nn as nn\n",
    "import torch.nn.functional as F\n",
    "import torch.optim as optim\n",
    "import torchvision.datasets as datasets\n",
    "from datetime import datetime\n",
    "from datetime import date\n",
    "import os\n",
    "import torchvision.models as tmodels"
   ]
  },
  {
   "cell_type": "markdown",
   "metadata": {
    "id": "8oLQUE6PUw1I"
   },
   "source": [
    "### Compute Dataset Normalization Parameters"
   ]
  },
  {
   "cell_type": "code",
   "execution_count": null,
   "metadata": {
    "id": "iwR4tciMUw1I"
   },
   "outputs": [],
   "source": [
    "# Prepare dataframe to store parameters\n",
    "norm_param_column_list = ['Dataset','meanR','meanG','meanB', 'stdR', 'stdG', 'stdB']\n",
    "norm_param_df = pd.DataFrame(columns=norm_param_column_list)"
   ]
  },
  {
   "cell_type": "code",
   "execution_count": null,
   "metadata": {
    "id": "DMEvDPGTUw1K"
   },
   "outputs": [],
   "source": [
    "# Pre-load dataset without normalisation (normalisation parameters to be computed below)\n",
    "for trg_dataset_ref in range (3):\n",
    "    dataset_prenorm = datasets.ImageFolder(\n",
    "        '/content/drive/MyDrive/KASHIKO/DATASET/TRG_' + str(trg_dataset_ref + 1) + '_FINAL/',\n",
    "        transforms.Compose([\n",
    "            transforms.ToTensor(),\n",
    "        ])\n",
    "    )\n",
    "    # Compute normalisation parameters (i.e. mean and standard error for each channel)\n",
    "    loader = torch.utils.data.DataLoader(dataset_prenorm,\n",
    "                         batch_size=len(dataset_prenorm),\n",
    "                         shuffle=False,\n",
    "                         num_workers=4)\n",
    "    mean = 0.\n",
    "    std = 0.\n",
    "    for images, _ in loader:\n",
    "        batch_samples = images.size(0) # batch size (the last batch can have smaller size!)\n",
    "        images = images.view(batch_samples, images.size(1), -1)\n",
    "        mean += images.mean(2).sum(0)\n",
    "        std += images.std(2).sum(0)\n",
    "\n",
    "    mean /= len(loader.dataset)\n",
    "    std /= len(loader.dataset)\n",
    "    \n",
    "    temp_df = pd.DataFrame([[trg_dataset_ref+1,\n",
    "                             mean[0].item(),\n",
    "                             mean[1].item(),\n",
    "                             mean[2].item(),\n",
    "                             std[0].item(),\n",
    "                             std[1].item(),\n",
    "                             std[2].item()]],\n",
    "                             columns=norm_param_column_list)\n",
    "    norm_param_df = norm_param_df.append(temp_df)\n",
    "\n",
    "temp_df = pd.DataFrame([[\"AVG\",\n",
    "                          norm_param_df['meanR'].mean(),\n",
    "                          norm_param_df['meanG'].mean(),\n",
    "                          norm_param_df['meanB'].mean(),\n",
    "                          norm_param_df['stdR'].mean(),\n",
    "                          norm_param_df['stdG'].mean(),\n",
    "                          norm_param_df['stdB'].mean()]],\n",
    "                         columns=norm_param_column_list)\n",
    "norm_param_df.to_csv('/content/drive/MyDrive/KASHIKO/DATASET/TRG_DATASET_NORM_PARAM.csv')"
   ]
  }
 ],
 "metadata": {
  "colab": {
   "collapsed_sections": [],
   "machine_shape": "hm",
   "name": "training_dataset_normalization_parameters.ipynb",
   "private_outputs": true,
   "provenance": [],
   "toc_visible": true
  },
  "kernelspec": {
   "display_name": "Python 3",
   "language": "python",
   "name": "python3"
  },
  "language_info": {
   "codemirror_mode": {
    "name": "ipython",
    "version": 3
   },
   "file_extension": ".py",
   "mimetype": "text/x-python",
   "name": "python",
   "nbconvert_exporter": "python",
   "pygments_lexer": "ipython3",
   "version": "3.8.5"
  }
 },
 "nbformat": 4,
 "nbformat_minor": 1
}
