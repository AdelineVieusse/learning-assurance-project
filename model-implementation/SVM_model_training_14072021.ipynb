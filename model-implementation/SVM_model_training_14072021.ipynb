{
 "cells": [
  {
   "cell_type": "markdown",
   "metadata": {},
   "source": [
    "# SVM Model Training"
   ]
  },
  {
   "cell_type": "code",
   "execution_count": null,
   "metadata": {},
   "outputs": [],
   "source": [
    "# The purpose of this module is to recompute to SVM model (for the out-of-distribution \n",
    "# detection function based on the conv 2 layer activations) directly on the inference platform.\n",
    "# The SVM model generated using ColabPro was generated using a recent version of sklearn that\n",
    "# was not compatible with the version available on the inference platform.\n",
    "# I chose to retrain the SVM on the Jetbor rather than downgrade Colab Pro to an older version of sklearn."
   ]
  },
  {
   "cell_type": "markdown",
   "metadata": {},
   "source": [
    "### Import required libraries"
   ]
  },
  {
   "cell_type": "code",
   "execution_count": null,
   "metadata": {},
   "outputs": [],
   "source": [
    "import torch\n",
    "import pickle\n",
    "import sklearn\n",
    "from sklearn.svm import OneClassSVM\n",
    "import os\n",
    "import collections"
   ]
  },
  {
   "cell_type": "markdown",
   "metadata": {},
   "source": [
    "### Retrieve activation data"
   ]
  },
  {
   "cell_type": "code",
   "execution_count": null,
   "metadata": {},
   "outputs": [],
   "source": [
    "os.chdir('/home/jetbot/Notebooks/Kashiko')"
   ]
  },
  {
   "cell_type": "code",
   "execution_count": null,
   "metadata": {},
   "outputs": [],
   "source": [
    "# Retrieve activation data recorded during the SVM modle training in ColabPro (see discriminator module)\n",
    "ACT1 = collections.defaultdict(list)\n",
    "ACT1 = torch.load('SVM_training_activations1_no_zip.pt')\n",
    "for k,v in ACT1.items():\n",
    "    print (k, v.size())"
   ]
  },
  {
   "cell_type": "markdown",
   "metadata": {},
   "source": [
    "### Train SVM model"
   ]
  },
  {
   "cell_type": "markdown",
   "metadata": {},
   "source": [
    "Below code reused from https://github.com/gietema/ood-early-layer-detection\n",
    "\n",
    "\"Detecting Out-of-Distribution Inputs in Deep Neural Networks Using an Early-Layer Output\" Vahdat Abdelzad, Krzysztof Czarnecki, Rick Salay, Taylor Denounden, Sachin Vernekar, Buu Phan https://arxiv.org/abs/1910.10307"
   ]
  },
  {
   "cell_type": "code",
   "execution_count": null,
   "metadata": {},
   "outputs": [],
   "source": [
    "# Define function to compute the mean of a given channel\n",
    "def get_mean_channels(batched_outputs):\n",
    "    channel_means = []\n",
    "    for single_output in batched_outputs:\n",
    "        channel_means.append([channel.mean() for channel in single_output])\n",
    "    return torch.tensor(channel_means)"
   ]
  },
  {
   "cell_type": "code",
   "execution_count": null,
   "metadata": {},
   "outputs": [],
   "source": [
    "batched_output = get_mean_channels(ACT1['conv2'])"
   ]
  },
  {
   "cell_type": "code",
   "execution_count": null,
   "metadata": {},
   "outputs": [],
   "source": [
    "# Retrain SVM with Conv2 activations directly on the Jetbot\n",
    "SVM_model = OneClassSVM(nu = 0.001).fit(batched_output)"
   ]
  },
  {
   "cell_type": "markdown",
   "metadata": {},
   "source": [
    "### Save SVM model"
   ]
  },
  {
   "cell_type": "code",
   "execution_count": null,
   "metadata": {},
   "outputs": [],
   "source": [
    "pickle.dump(SVM_model, open('SVM_model.sav', 'wb'))"
   ]
  }
 ],
 "metadata": {
  "kernelspec": {
   "display_name": "Python 3",
   "language": "python",
   "name": "python3"
  },
  "language_info": {
   "codemirror_mode": {
    "name": "ipython",
    "version": 3
   },
   "file_extension": ".py",
   "mimetype": "text/x-python",
   "name": "python",
   "nbconvert_exporter": "python",
   "pygments_lexer": "ipython3",
   "version": "3.8.5"
  }
 },
 "nbformat": 4,
 "nbformat_minor": 4
}
