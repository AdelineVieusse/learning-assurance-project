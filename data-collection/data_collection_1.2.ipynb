{
 "cells": [
  {
   "cell_type": "markdown",
   "metadata": {},
   "source": [
    "# Data Collection"
   ]
  },
  {
   "cell_type": "markdown",
   "metadata": {},
   "source": [
    "### Import required libraries"
   ]
  },
  {
   "cell_type": "code",
   "execution_count": 1,
   "metadata": {},
   "outputs": [
    {
     "ename": "ModuleNotFoundError",
     "evalue": "No module named 'jetbot'",
     "output_type": "error",
     "traceback": [
      "\u001b[1;31m---------------------------------------------------------------------------\u001b[0m",
      "\u001b[1;31mModuleNotFoundError\u001b[0m                       Traceback (most recent call last)",
      "\u001b[1;32m<ipython-input-1-02bbdc79fdaa>\u001b[0m in \u001b[0;36m<module>\u001b[1;34m\u001b[0m\n\u001b[0;32m      2\u001b[0m \u001b[1;32mimport\u001b[0m \u001b[0mipywidgets\u001b[0m\u001b[1;33m.\u001b[0m\u001b[0mwidgets\u001b[0m \u001b[1;32mas\u001b[0m \u001b[0mwidgets\u001b[0m\u001b[1;33m\u001b[0m\u001b[1;33m\u001b[0m\u001b[0m\n\u001b[0;32m      3\u001b[0m \u001b[1;32mfrom\u001b[0m \u001b[0mIPython\u001b[0m\u001b[1;33m.\u001b[0m\u001b[0mdisplay\u001b[0m \u001b[1;32mimport\u001b[0m \u001b[0mdisplay\u001b[0m\u001b[1;33m\u001b[0m\u001b[1;33m\u001b[0m\u001b[0m\n\u001b[1;32m----> 4\u001b[1;33m \u001b[1;32mfrom\u001b[0m \u001b[0mjetbot\u001b[0m \u001b[1;32mimport\u001b[0m \u001b[0mCamera\u001b[0m\u001b[1;33m,\u001b[0m \u001b[0mbgr8_to_jpeg\u001b[0m\u001b[1;33m\u001b[0m\u001b[1;33m\u001b[0m\u001b[0m\n\u001b[0m\u001b[0;32m      5\u001b[0m \u001b[1;32mimport\u001b[0m \u001b[0mos\u001b[0m\u001b[1;33m\u001b[0m\u001b[1;33m\u001b[0m\u001b[0m\n\u001b[0;32m      6\u001b[0m \u001b[1;32mimport\u001b[0m \u001b[0mpandas\u001b[0m \u001b[1;32mas\u001b[0m \u001b[0mpd\u001b[0m\u001b[1;33m\u001b[0m\u001b[1;33m\u001b[0m\u001b[0m\n",
      "\u001b[1;31mModuleNotFoundError\u001b[0m: No module named 'jetbot'"
     ]
    }
   ],
   "source": [
    "import traitlets\n",
    "import ipywidgets.widgets as widgets\n",
    "from IPython.display import display\n",
    "from jetbot import Camera, bgr8_to_jpeg\n",
    "import os\n",
    "import pandas as pd\n",
    "from uuid import uuid1\n",
    "from datetime import datetime\n",
    "from datetime import date\n",
    "import hashlib"
   ]
  },
  {
   "cell_type": "markdown",
   "metadata": {},
   "source": [
    "### Display live camera feed"
   ]
  },
  {
   "cell_type": "code",
   "execution_count": 2,
   "metadata": {
    "scrolled": true
   },
   "outputs": [
    {
     "ename": "NameError",
     "evalue": "name 'Camera' is not defined",
     "output_type": "error",
     "traceback": [
      "\u001b[1;31m---------------------------------------------------------------------------\u001b[0m",
      "\u001b[1;31mNameError\u001b[0m                                 Traceback (most recent call last)",
      "\u001b[1;32m<ipython-input-2-6b5662082156>\u001b[0m in \u001b[0;36m<module>\u001b[1;34m\u001b[0m\n\u001b[0;32m      1\u001b[0m \u001b[0mimage_resolution\u001b[0m \u001b[1;33m=\u001b[0m \u001b[1;36m224\u001b[0m\u001b[1;33m\u001b[0m\u001b[1;33m\u001b[0m\u001b[0m\n\u001b[0;32m      2\u001b[0m \u001b[1;33m\u001b[0m\u001b[0m\n\u001b[1;32m----> 3\u001b[1;33m \u001b[0mcamera\u001b[0m \u001b[1;33m=\u001b[0m \u001b[0mCamera\u001b[0m\u001b[1;33m.\u001b[0m\u001b[0minstance\u001b[0m\u001b[1;33m(\u001b[0m\u001b[0mwidth\u001b[0m\u001b[1;33m=\u001b[0m\u001b[0mimage_resolution\u001b[0m\u001b[1;33m,\u001b[0m \u001b[0mheight\u001b[0m\u001b[1;33m=\u001b[0m\u001b[0mimage_resolution\u001b[0m\u001b[1;33m,\u001b[0m \u001b[0mfps\u001b[0m \u001b[1;33m=\u001b[0m \u001b[1;36m2\u001b[0m\u001b[1;33m)\u001b[0m\u001b[1;33m\u001b[0m\u001b[1;33m\u001b[0m\u001b[0m\n\u001b[0m\u001b[0;32m      4\u001b[0m \u001b[1;33m\u001b[0m\u001b[0m\n\u001b[0;32m      5\u001b[0m \u001b[0mimage\u001b[0m \u001b[1;33m=\u001b[0m \u001b[0mwidgets\u001b[0m\u001b[1;33m.\u001b[0m\u001b[0mImage\u001b[0m\u001b[1;33m(\u001b[0m\u001b[0mformat\u001b[0m\u001b[1;33m=\u001b[0m\u001b[1;34m'jpeg'\u001b[0m\u001b[1;33m,\u001b[0m \u001b[0mwidth\u001b[0m\u001b[1;33m=\u001b[0m\u001b[0mimage_resolution\u001b[0m\u001b[1;33m,\u001b[0m \u001b[0mheight\u001b[0m\u001b[1;33m=\u001b[0m\u001b[0mimage_resolution\u001b[0m\u001b[1;33m)\u001b[0m  \u001b[1;31m# this width and height doesn't necessarily have to match the camera\u001b[0m\u001b[1;33m\u001b[0m\u001b[1;33m\u001b[0m\u001b[0m\n",
      "\u001b[1;31mNameError\u001b[0m: name 'Camera' is not defined"
     ]
    }
   ],
   "source": [
    "image_resolution = 224\n",
    "\n",
    "camera = Camera.instance(width=image_resolution, height=image_resolution, fps = 2)\n",
    "\n",
    "image = widgets.Image(format='jpeg', width=image_resolution, height=image_resolution)  # this width and height doesn't necessarily have to match the camera\n",
    "\n",
    "camera_link = traitlets.dlink((camera, 'value'), (image, 'value'), transform=bgr8_to_jpeg)\n",
    "\n",
    "display(image)\n"
   ]
  },
  {
   "cell_type": "markdown",
   "metadata": {},
   "source": [
    "### Create directories + dataframe to store the data"
   ]
  },
  {
   "cell_type": "code",
   "execution_count": 3,
   "metadata": {},
   "outputs": [
    {
     "ename": "NameError",
     "evalue": "name 'pd' is not defined",
     "output_type": "error",
     "traceback": [
      "\u001b[1;31m---------------------------------------------------------------------------\u001b[0m",
      "\u001b[1;31mNameError\u001b[0m                                 Traceback (most recent call last)",
      "\u001b[1;32m<ipython-input-3-f96b6b2954f6>\u001b[0m in \u001b[0;36m<module>\u001b[1;34m\u001b[0m\n\u001b[0;32m      1\u001b[0m \u001b[0mimage_param_column_list\u001b[0m \u001b[1;33m=\u001b[0m \u001b[1;33m[\u001b[0m\u001b[1;34m'UUID'\u001b[0m\u001b[1;33m,\u001b[0m\u001b[1;34m'DATE'\u001b[0m\u001b[1;33m,\u001b[0m\u001b[1;34m'TIME'\u001b[0m\u001b[1;33m,\u001b[0m\u001b[1;34m'RUNWAY'\u001b[0m\u001b[1;33m,\u001b[0m\u001b[1;34m'ROOM'\u001b[0m\u001b[1;33m,\u001b[0m \u001b[1;34m'SIDE'\u001b[0m\u001b[1;33m,\u001b[0m \u001b[1;34m'MARK'\u001b[0m\u001b[1;33m,\u001b[0m \u001b[1;34m'FLOOR'\u001b[0m\u001b[1;33m,\u001b[0m \u001b[1;34m' LIGHT'\u001b[0m\u001b[1;33m,\u001b[0m \u001b[1;34m'BACK'\u001b[0m\u001b[1;33m,\u001b[0m \u001b[1;34m'LONG DIST'\u001b[0m\u001b[1;33m,\u001b[0m \u001b[1;34m'LAT DIST'\u001b[0m\u001b[1;33m,\u001b[0m \u001b[1;34m'ANGLE'\u001b[0m\u001b[1;33m,\u001b[0m\u001b[1;34m'SHA256'\u001b[0m\u001b[1;33m]\u001b[0m\u001b[1;33m\u001b[0m\u001b[1;33m\u001b[0m\u001b[0m\n\u001b[1;32m----> 2\u001b[1;33m \u001b[0mimage_param_df\u001b[0m \u001b[1;33m=\u001b[0m \u001b[0mpd\u001b[0m\u001b[1;33m.\u001b[0m\u001b[0mDataFrame\u001b[0m\u001b[1;33m(\u001b[0m\u001b[0mcolumns\u001b[0m\u001b[1;33m=\u001b[0m\u001b[0mimage_param_column_list\u001b[0m\u001b[1;33m)\u001b[0m\u001b[1;33m\u001b[0m\u001b[1;33m\u001b[0m\u001b[0m\n\u001b[0m\u001b[0;32m      3\u001b[0m \u001b[1;33m\u001b[0m\u001b[0m\n\u001b[0;32m      4\u001b[0m \u001b[0mrunway_dir\u001b[0m \u001b[1;33m=\u001b[0m \u001b[1;34m'dataset/runway'\u001b[0m\u001b[1;33m\u001b[0m\u001b[1;33m\u001b[0m\u001b[0m\n\u001b[0;32m      5\u001b[0m \u001b[0mnorunway_dir\u001b[0m \u001b[1;33m=\u001b[0m \u001b[1;34m'dataset/norunway'\u001b[0m\u001b[1;33m\u001b[0m\u001b[1;33m\u001b[0m\u001b[0m\n",
      "\u001b[1;31mNameError\u001b[0m: name 'pd' is not defined"
     ]
    }
   ],
   "source": [
    "image_param_column_list = ['UUID','DATE','TIME','RUNWAY','ROOM', 'SIDE', 'MARK', 'FLOOR', ' LIGHT', 'BACK', 'LONG DIST', 'LAT DIST', 'ANGLE','SHA256']\n",
    "image_param_df = pd.DataFrame(columns=image_param_column_list)\n",
    "\n",
    "runway_dir = 'dataset/runway'\n",
    "norunway_dir = 'dataset/norunway'\n",
    "partrunway_dir = 'dataset/partrunway'\n",
    "hash_block_size = 65536\n",
    "\n",
    "try:\n",
    "    os.makedirs(norunway_dir)\n",
    "    os.makedirs(partrunway_dir)\n",
    "    os.makedirs(runway_dir)\n",
    "except FileExistsError:\n",
    "    print('Directories not created because they already exist')"
   ]
  },
  {
   "cell_type": "markdown",
   "metadata": {},
   "source": [
    "### Initialise variables"
   ]
  },
  {
   "cell_type": "code",
   "execution_count": 4,
   "metadata": {},
   "outputs": [],
   "source": [
    "longitudinal_distance_range = 60\n",
    "lateral_distance_range = 60\n",
    "axis_angle_range = 90\n",
    "longitudinal_distance = 0\n",
    "lateral_distance = 0\n",
    "axis_angle = 0\n",
    "\n",
    "button_layout = widgets.Layout(width='128px', height='64px')\n",
    "text_layout = widgets.Layout(width='200px', height='64px')"
   ]
  },
  {
   "cell_type": "markdown",
   "metadata": {},
   "source": [
    "### Prepare Interface"
   ]
  },
  {
   "cell_type": "code",
   "execution_count": 5,
   "metadata": {},
   "outputs": [
    {
     "ename": "NameError",
     "evalue": "name 'os' is not defined",
     "output_type": "error",
     "traceback": [
      "\u001b[1;31m---------------------------------------------------------------------------\u001b[0m",
      "\u001b[1;31mNameError\u001b[0m                                 Traceback (most recent call last)",
      "\u001b[1;32m<ipython-input-5-bf0ff74f8e9a>\u001b[0m in \u001b[0;36m<module>\u001b[1;34m\u001b[0m\n\u001b[0;32m     46\u001b[0m \u001b[0mpass_button\u001b[0m \u001b[1;33m=\u001b[0m \u001b[0mwidgets\u001b[0m\u001b[1;33m.\u001b[0m\u001b[0mButton\u001b[0m\u001b[1;33m(\u001b[0m\u001b[0mdescription\u001b[0m\u001b[1;33m=\u001b[0m\u001b[1;34m'Pass'\u001b[0m\u001b[1;33m,\u001b[0m\u001b[0mbutton_style\u001b[0m\u001b[1;33m=\u001b[0m\u001b[1;34m'info'\u001b[0m\u001b[1;33m,\u001b[0m \u001b[0mlayout\u001b[0m\u001b[1;33m=\u001b[0m\u001b[0mbutton_layout\u001b[0m\u001b[1;33m)\u001b[0m\u001b[1;33m\u001b[0m\u001b[1;33m\u001b[0m\u001b[0m\n\u001b[0;32m     47\u001b[0m \u001b[1;33m\u001b[0m\u001b[0m\n\u001b[1;32m---> 48\u001b[1;33m \u001b[0mnorunway_count\u001b[0m \u001b[1;33m=\u001b[0m \u001b[0mwidgets\u001b[0m\u001b[1;33m.\u001b[0m\u001b[0mIntText\u001b[0m\u001b[1;33m(\u001b[0m\u001b[0mlayout\u001b[0m\u001b[1;33m=\u001b[0m\u001b[0mbutton_layout\u001b[0m\u001b[1;33m,\u001b[0m \u001b[0mvalue\u001b[0m\u001b[1;33m=\u001b[0m\u001b[0mlen\u001b[0m\u001b[1;33m(\u001b[0m\u001b[0mos\u001b[0m\u001b[1;33m.\u001b[0m\u001b[0mlistdir\u001b[0m\u001b[1;33m(\u001b[0m\u001b[0mnorunway_dir\u001b[0m\u001b[1;33m)\u001b[0m\u001b[1;33m)\u001b[0m\u001b[1;33m)\u001b[0m\u001b[1;33m\u001b[0m\u001b[1;33m\u001b[0m\u001b[0m\n\u001b[0m\u001b[0;32m     49\u001b[0m \u001b[0mpartrunway_count\u001b[0m \u001b[1;33m=\u001b[0m \u001b[0mwidgets\u001b[0m\u001b[1;33m.\u001b[0m\u001b[0mIntText\u001b[0m\u001b[1;33m(\u001b[0m\u001b[0mlayout\u001b[0m\u001b[1;33m=\u001b[0m\u001b[0mbutton_layout\u001b[0m\u001b[1;33m,\u001b[0m \u001b[0mvalue\u001b[0m\u001b[1;33m=\u001b[0m\u001b[0mlen\u001b[0m\u001b[1;33m(\u001b[0m\u001b[0mos\u001b[0m\u001b[1;33m.\u001b[0m\u001b[0mlistdir\u001b[0m\u001b[1;33m(\u001b[0m\u001b[0mpartrunway_dir\u001b[0m\u001b[1;33m)\u001b[0m\u001b[1;33m)\u001b[0m\u001b[1;33m)\u001b[0m\u001b[1;33m\u001b[0m\u001b[1;33m\u001b[0m\u001b[0m\n\u001b[0;32m     50\u001b[0m \u001b[0mrunway_count\u001b[0m \u001b[1;33m=\u001b[0m \u001b[0mwidgets\u001b[0m\u001b[1;33m.\u001b[0m\u001b[0mIntText\u001b[0m\u001b[1;33m(\u001b[0m\u001b[0mlayout\u001b[0m\u001b[1;33m=\u001b[0m\u001b[0mbutton_layout\u001b[0m\u001b[1;33m,\u001b[0m \u001b[0mvalue\u001b[0m\u001b[1;33m=\u001b[0m\u001b[0mlen\u001b[0m\u001b[1;33m(\u001b[0m\u001b[0mos\u001b[0m\u001b[1;33m.\u001b[0m\u001b[0mlistdir\u001b[0m\u001b[1;33m(\u001b[0m\u001b[0mrunway_dir\u001b[0m\u001b[1;33m)\u001b[0m\u001b[1;33m)\u001b[0m\u001b[1;33m)\u001b[0m\u001b[1;33m\u001b[0m\u001b[1;33m\u001b[0m\u001b[0m\n",
      "\u001b[1;31mNameError\u001b[0m: name 'os' is not defined"
     ]
    }
   ],
   "source": [
    "# General parameters setting interface\n",
    "marking_selection = widgets.RadioButtons(\n",
    "    options=[('Light',0), ('Dark',1)],\n",
    "    description='Marking:',\n",
    "    disabled=False\n",
    ")\n",
    "floor_selection = widgets.RadioButtons(\n",
    "    options=[('Light',0), ('Dark',1)],\n",
    "    description='Floor:',\n",
    "    disabled=False\n",
    ")\n",
    "lighting_selection = widgets.RadioButtons(\n",
    "    options=[('Light',0), ('Dark',1)],\n",
    "    description='Lighting:',\n",
    "    disabled=False\n",
    ")\n",
    "background_selection = widgets.RadioButtons(\n",
    "    options=[('Minimalist',0), ('Clutered',1)],\n",
    "    description='Background:',\n",
    "    disabled=False\n",
    ")\n",
    "side_selection = widgets.RadioButtons(\n",
    "    options=[('LHS',0), ('RHS',1)],\n",
    "    description='Runway side:',\n",
    "    disabled=False\n",
    ")\n",
    "room_selection = widgets.Dropdown(\n",
    "    options=[('Living',0), ('Dining',1),('Kitchen',2), \n",
    "            ('Mudroom',3), ('Corridor',4),('Bathroom',5),\n",
    "            ('StudyC',6), ('StudyA',7),('Bedroom',8),\n",
    "            ('Backroom',9), ('Balcony',10)],\n",
    "    value=7,\n",
    "    description='Room:',\n",
    "    disabled=False,\n",
    ")\n",
    "\n",
    "# Grid parameters setting interface\n",
    "longitudinal_distance_display = widgets.IntText(description='Longitudinal distance', layout=text_layout, value=longitudinal_distance)\n",
    "lateral_distance_display = widgets.IntText(description='Lateral distance', layout=text_layout, value=lateral_distance)\n",
    "axis_angle_display = widgets.IntText(description='Axis angle', layout=text_layout, value=axis_angle)\n",
    "\n",
    "# Data collection buttons interface\n",
    "norunway_button = widgets.Button(description='No runway', button_style='danger', layout=button_layout)\n",
    "partrunway_button = widgets.Button(description='Partial runway', button_style='warning', layout=button_layout)\n",
    "runway_button = widgets.Button(description='Full runway', button_style='success', layout=button_layout)\n",
    "pass_button = widgets.Button(description='Pass',button_style='info', layout=button_layout)\n",
    "\n",
    "norunway_count = widgets.IntText(layout=button_layout, value=len(os.listdir(norunway_dir)))\n",
    "partrunway_count = widgets.IntText(layout=button_layout, value=len(os.listdir(partrunway_dir)))\n",
    "runway_count = widgets.IntText(layout=button_layout, value=len(os.listdir(runway_dir)))\n"
   ]
  },
  {
   "cell_type": "markdown",
   "metadata": {},
   "source": [
    "### Define functions"
   ]
  },
  {
   "cell_type": "code",
   "execution_count": 6,
   "metadata": {},
   "outputs": [],
   "source": [
    "def save_snapshot(directory, fileid):\n",
    "    image_path = os.path.join(directory, str(fileid) + '.jpg')\n",
    "    with open(image_path, 'wb') as f:\n",
    "        f.write(image.value)\n",
    "\n",
    "def generate_hash(directory, fileid):\n",
    "    image_path = os.path.join(directory, str(fileid) + '.jpg')\n",
    "    file_hash = hashlib.sha256()\n",
    "    with open(image_path, 'rb') as f:\n",
    "        fb = f.read(hash_block_size) \n",
    "        while len(fb) > 0: \n",
    "            file_hash.update(fb)\n",
    "            fb = f.read(hash_block_size)\n",
    "    return file_hash.hexdigest()  \n",
    "        \n",
    "def save_parameters(fid, date, time, runway, room, side, marking, floor, lighting, background, long_dist, lat_dist, angle,fhash):\n",
    "    global image_param_column_list, image_param_df\n",
    "    temp_df = pd.DataFrame([[fid, date, time, runway, room, side, marking, floor, lighting, background, long_dist, lat_dist, angle,fhash]], columns=image_param_column_list)\n",
    "    image_param_df = image_param_df.append(temp_df)\n",
    "    pass\n",
    "\n",
    "def grid_pattern():\n",
    "    global longitudinal_distance, lateral_distance, axis_angle\n",
    "    cycle_completed = 0\n",
    "    if axis_angle == axis_angle_range:\n",
    "        axis_angle = 0\n",
    "        if longitudinal_distance == longitudinal_distance_range:\n",
    "            longitudinal_distance = 0\n",
    "            if lateral_distance == lateral_distance_range:\n",
    "                lateral_distance = 0\n",
    "            else:\n",
    "                lateral_distance = lateral_distance + 15\n",
    "        else:\n",
    "            longitudinal_distance = longitudinal_distance + 15\n",
    "    else:\n",
    "        axis_angle = axis_angle + 45\n",
    "    longitudinal_distance_display.value = longitudinal_distance\n",
    "    lateral_distance_display.value = lateral_distance\n",
    "    axis_angle_display.value = axis_angle\n",
    "\n",
    "def save_norunway():\n",
    "    global norunway_dir, norunway_count\n",
    "    global marking_selection, floor_selection, lighting_selection, background_selection\n",
    "    global longitudinal_distance, lateral_distance, axis_angle\n",
    "    fileid = uuid1()\n",
    "    date_now = str(date.today())\n",
    "    time_now = datetime.now().strftime(\"%H:%M:%S\")\n",
    "    save_snapshot(norunway_dir, fileid)\n",
    "    file_hash =  generate_hash(norunway_dir, fileid)\n",
    "    save_parameters(fileid, date_now, time_now, 0, room_selection.value, side_selection.value, marking_selection.value, floor_selection.value, lighting_selection.value, background_selection.value, longitudinal_distance, lateral_distance, axis_angle, file_hash)\n",
    "    norunway_count.value = len(os.listdir(norunway_dir))\n",
    "    grid_pattern()\n",
    "\n",
    "def save_partrunway():\n",
    "    global partrunway_dir, partrunway_count\n",
    "    global marking_selection, floor_selection, lighting_selection, background_selection\n",
    "    global longitudinal_distance, lateral_distance, axis_angle\n",
    "    fileid = uuid1()\n",
    "    date_now = str(date.today())\n",
    "    time_now = datetime.now().strftime(\"%H:%M:%S\")\n",
    "    save_snapshot(partrunway_dir, fileid)\n",
    "    file_hash =  generate_hash(partrunway_dir, fileid)\n",
    "    save_parameters(fileid, date_now, time_now, 1, room_selection.value, side_selection.value, marking_selection.value, floor_selection.value, lighting_selection.value, background_selection.value, longitudinal_distance, lateral_distance, axis_angle, file_hash)\n",
    "    partrunway_count.value = len(os.listdir(partrunway_dir))\n",
    "    grid_pattern()\n",
    "\n",
    "def save_runway():\n",
    "    global runway_dir, runway_count\n",
    "    global marking_selection, floor_selection, lighting_selection, background_selection\n",
    "    global longitudinal_distance, lateral_distance, axis_angle\n",
    "    fileid = uuid1()\n",
    "    date_now = str(date.today())\n",
    "    time_now = datetime.now().strftime(\"%H:%M:%S\")\n",
    "    save_snapshot(runway_dir, fileid)\n",
    "    file_hash =  generate_hash(runway_dir, fileid)\n",
    "    save_parameters(fileid, date_now, time_now, 2, room_selection.value, side_selection.value, marking_selection.value, floor_selection.value, lighting_selection.value, background_selection.value, longitudinal_distance, lateral_distance, axis_angle, file_hash)\n",
    "    runway_count.value = len(os.listdir(runway_dir))\n",
    "    grid_pattern()\n",
    "    \n",
    "\n",
    "def save_pass():\n",
    "    global runway_marking_selection, floor_selection, lighting_selection, background_selection\n",
    "    global longitudinal_distance, lateral_distance, axis_angle\n",
    "    date_now = str(date.today())\n",
    "    time_now = datetime.now().strftime(\"%H:%M:%S\")    \n",
    "    save_parameters(\"NA\", date_now, time_now, 0, room_selection.value, side_selection.value, marking_selection.value, floor_selection.value, lighting_selection.value, background_selection.value, longitudinal_distance, lateral_distance, axis_angle,\"NA\")\n",
    "    grid_pattern()"
   ]
  },
  {
   "cell_type": "markdown",
   "metadata": {},
   "source": [
    "### Collect data"
   ]
  },
  {
   "cell_type": "code",
   "execution_count": 7,
   "metadata": {},
   "outputs": [
    {
     "data": {
      "application/vnd.jupyter.widget-view+json": {
       "model_id": "923d2da86f334d00b8f96e96797b77c7",
       "version_major": 2,
       "version_minor": 0
      },
      "text/plain": [
       "HBox(children=(RadioButtons(description='Marking:', options=(('Light', 0), ('Dark', 1)), value=0), RadioButton…"
      ]
     },
     "metadata": {},
     "output_type": "display_data"
    },
    {
     "data": {
      "application/vnd.jupyter.widget-view+json": {
       "model_id": "ec7ac1b162f44eeba90df0c0ac43fe20",
       "version_major": 2,
       "version_minor": 0
      },
      "text/plain": [
       "HBox(children=(RadioButtons(description='Lighting:', options=(('Light', 0), ('Dark', 1)), value=0), RadioButto…"
      ]
     },
     "metadata": {},
     "output_type": "display_data"
    },
    {
     "data": {
      "application/vnd.jupyter.widget-view+json": {
       "model_id": "e50fe22deb404de5b3f2b9d2bc81b362",
       "version_major": 2,
       "version_minor": 0
      },
      "text/plain": [
       "HBox(children=(Dropdown(description='Room:', index=7, options=(('Living', 0), ('Dining', 1), ('Kitchen', 2), (…"
      ]
     },
     "metadata": {},
     "output_type": "display_data"
    },
    {
     "data": {
      "application/vnd.jupyter.widget-view+json": {
       "model_id": "35aebf29ab384f85bf7d9bbeeb4bfcf6",
       "version_major": 2,
       "version_minor": 0
      },
      "text/plain": [
       "HBox(children=(IntText(value=0, description='Longitudinal distance', layout=Layout(height='64px', width='200px…"
      ]
     },
     "metadata": {},
     "output_type": "display_data"
    },
    {
     "ename": "NameError",
     "evalue": "name 'runway_count' is not defined",
     "output_type": "error",
     "traceback": [
      "\u001b[1;31m---------------------------------------------------------------------------\u001b[0m",
      "\u001b[1;31mNameError\u001b[0m                                 Traceback (most recent call last)",
      "\u001b[1;32m<ipython-input-7-b0637cb02ba0>\u001b[0m in \u001b[0;36m<module>\u001b[1;34m\u001b[0m\n\u001b[0;32m      5\u001b[0m \u001b[0mdisplay\u001b[0m\u001b[1;33m(\u001b[0m\u001b[0mwidgets\u001b[0m\u001b[1;33m.\u001b[0m\u001b[0mHBox\u001b[0m\u001b[1;33m(\u001b[0m\u001b[1;33m[\u001b[0m\u001b[0mlongitudinal_distance_display\u001b[0m\u001b[1;33m,\u001b[0m \u001b[0mlateral_distance_display\u001b[0m\u001b[1;33m,\u001b[0m \u001b[0maxis_angle_display\u001b[0m\u001b[1;33m]\u001b[0m\u001b[1;33m)\u001b[0m\u001b[1;33m)\u001b[0m\u001b[1;33m\u001b[0m\u001b[1;33m\u001b[0m\u001b[0m\n\u001b[0;32m      6\u001b[0m \u001b[1;33m\u001b[0m\u001b[0m\n\u001b[1;32m----> 7\u001b[1;33m \u001b[0mdisplay\u001b[0m\u001b[1;33m(\u001b[0m\u001b[0mwidgets\u001b[0m\u001b[1;33m.\u001b[0m\u001b[0mHBox\u001b[0m\u001b[1;33m(\u001b[0m\u001b[1;33m[\u001b[0m\u001b[0mrunway_button\u001b[0m\u001b[1;33m,\u001b[0m \u001b[0mrunway_count\u001b[0m\u001b[1;33m,\u001b[0m \u001b[0mpass_button\u001b[0m\u001b[1;33m]\u001b[0m\u001b[1;33m)\u001b[0m\u001b[1;33m)\u001b[0m\u001b[1;33m\u001b[0m\u001b[1;33m\u001b[0m\u001b[0m\n\u001b[0m\u001b[0;32m      8\u001b[0m \u001b[0mdisplay\u001b[0m\u001b[1;33m(\u001b[0m\u001b[0mwidgets\u001b[0m\u001b[1;33m.\u001b[0m\u001b[0mHBox\u001b[0m\u001b[1;33m(\u001b[0m\u001b[1;33m[\u001b[0m\u001b[0mpartrunway_button\u001b[0m\u001b[1;33m,\u001b[0m \u001b[0mpartrunway_count\u001b[0m\u001b[1;33m]\u001b[0m\u001b[1;33m)\u001b[0m\u001b[1;33m)\u001b[0m\u001b[1;33m\u001b[0m\u001b[1;33m\u001b[0m\u001b[0m\n\u001b[0;32m      9\u001b[0m \u001b[0mdisplay\u001b[0m\u001b[1;33m(\u001b[0m\u001b[0mwidgets\u001b[0m\u001b[1;33m.\u001b[0m\u001b[0mHBox\u001b[0m\u001b[1;33m(\u001b[0m\u001b[1;33m[\u001b[0m\u001b[0mnorunway_button\u001b[0m\u001b[1;33m,\u001b[0m\u001b[0mnorunway_count\u001b[0m\u001b[1;33m]\u001b[0m\u001b[1;33m)\u001b[0m\u001b[1;33m)\u001b[0m\u001b[1;33m\u001b[0m\u001b[1;33m\u001b[0m\u001b[0m\n",
      "\u001b[1;31mNameError\u001b[0m: name 'runway_count' is not defined"
     ]
    }
   ],
   "source": [
    "display(widgets.HBox([marking_selection, floor_selection]))\n",
    "display(widgets.HBox([lighting_selection, background_selection]))\n",
    "display(widgets.HBox([room_selection, side_selection]))\n",
    "\n",
    "display(widgets.HBox([longitudinal_distance_display, lateral_distance_display, axis_angle_display]))\n",
    "\n",
    "display(widgets.HBox([runway_button, runway_count, pass_button]))\n",
    "display(widgets.HBox([partrunway_button, partrunway_count]))\n",
    "display(widgets.HBox([norunway_button,norunway_count]))\n",
    "\n",
    "display(image, width = image_resolution, height = image_resolution)\n",
    "\n",
    "norunway_button.on_click(lambda x: save_norunway())\n",
    "partrunway_button.on_click(lambda x: save_partrunway())\n",
    "runway_button.on_click(lambda x: save_runway())\n",
    "pass_button.on_click(lambda x: save_pass())\n"
   ]
  },
  {
   "cell_type": "markdown",
   "metadata": {},
   "source": [
    "### Save Image parameters to dedicated .csv file"
   ]
  },
  {
   "cell_type": "code",
   "execution_count": 9,
   "metadata": {},
   "outputs": [],
   "source": [
    "now = datetime.now().strftime(\"%d%m%Y_%H%M%S\")\n",
    "image_param_df.to_csv('dataset/Image_Parameters_' + now + '.csv')\n",
    "\n",
    "image_param_file_hash = hashlib.sha512()\n",
    "with open('dataset/Image_Parameters_' + now + '.csv', 'rb') as f:\n",
    "    fb = f.read(hash_block_size) \n",
    "    while len(fb) > 0: \n",
    "        image_param_file_hash.update(fb)\n",
    "        fb = f.read(hash_block_size)\n",
    "image_param_file_hash_file = open('dataset/Image_Parameters_' + now + '_hash.txt', \"w\")\n",
    "image_param_file_hash_file.write(image_param_file_hash.hexdigest())\n",
    "image_param_file_hash_file.close()\n",
    "        "
   ]
  },
  {
   "cell_type": "markdown",
   "metadata": {},
   "source": [
    "### Zip dataset folder for export"
   ]
  },
  {
   "cell_type": "code",
   "execution_count": 10,
   "metadata": {},
   "outputs": [],
   "source": [
    "!zip -r -q dataset.zip dataset\n"
   ]
  },
  {
   "cell_type": "code",
   "execution_count": 11,
   "metadata": {},
   "outputs": [],
   "source": [
    "dataset_hash = hashlib.sha512()\n",
    "with open(\"dataset.zip\", 'rb') as f:\n",
    "    fb = f.read(hash_block_size) \n",
    "    while len(fb) > 0: \n",
    "        dataset_hash.update(fb)\n",
    "        fb = f.read(hash_block_size)\n",
    "dataset_hash.hexdigest()\n",
    "\n",
    "dataset_hash_file = open(\"dataset_hash.txt\", \"w\")\n",
    "dataset_hash_file.write(dataset_hash.hexdigest())\n",
    "dataset_hash_file.close()"
   ]
  },
  {
   "cell_type": "code",
   "execution_count": null,
   "metadata": {},
   "outputs": [],
   "source": []
  }
 ],
 "metadata": {
  "kernelspec": {
   "display_name": "Python 3",
   "language": "python",
   "name": "python3"
  },
  "language_info": {
   "codemirror_mode": {
    "name": "ipython",
    "version": 3
   },
   "file_extension": ".py",
   "mimetype": "text/x-python",
   "name": "python",
   "nbconvert_exporter": "python",
   "pygments_lexer": "ipython3",
   "version": "3.8.5"
  }
 },
 "nbformat": 4,
 "nbformat_minor": 4
}
