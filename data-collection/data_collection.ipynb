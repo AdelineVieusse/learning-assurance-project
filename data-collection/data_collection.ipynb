{
 "cells": [
  {
   "cell_type": "markdown",
   "metadata": {},
   "source": [
    "# Data Collection"
   ]
  },
  {
   "cell_type": "markdown",
   "metadata": {},
   "source": [
    "### Import required libraries"
   ]
  },
  {
   "cell_type": "code",
   "execution_count": 24,
   "metadata": {},
   "outputs": [],
   "source": [
    "import traitlets\n",
    "import ipywidgets.widgets as widgets\n",
    "from IPython.display import display\n",
    "from jetbot import Camera, bgr8_to_jpeg\n",
    "import os\n",
    "import pandas as pd\n",
    "from uuid import uuid1\n",
    "from datetime import datetime\n",
    "from datetime import date"
   ]
  },
  {
   "cell_type": "markdown",
   "metadata": {},
   "source": [
    "### Display live camera feed"
   ]
  },
  {
   "cell_type": "code",
   "execution_count": 25,
   "metadata": {
    "scrolled": true
   },
   "outputs": [
    {
     "data": {
      "application/vnd.jupyter.widget-view+json": {
       "model_id": "23dd9d9734544e879c774f41965fa5f1",
       "version_major": 2,
       "version_minor": 0
      },
      "text/plain": [
       "Image(value=b'\\xff\\xd8\\xff\\xe0\\x00\\x10JFIF\\x00\\x01\\x01\\x00\\x00\\x01\\x00\\x01\\x00\\x00\\xff\\xdb\\x00C\\x00\\x02\\x01\\x0…"
      ]
     },
     "metadata": {},
     "output_type": "display_data"
    }
   ],
   "source": [
    "image_resolution = 224\n",
    "\n",
    "camera = Camera.instance(width=image_resolution, height=image_resolution, fps = 2)\n",
    "\n",
    "image = widgets.Image(format='jpeg', width=image_resolution, height=image_resolution)  # this width and height doesn't necessarily have to match the camera\n",
    "\n",
    "camera_link = traitlets.dlink((camera, 'value'), (image, 'value'), transform=bgr8_to_jpeg)\n",
    "\n",
    "display(image)\n"
   ]
  },
  {
   "cell_type": "markdown",
   "metadata": {},
   "source": [
    "### Create directories + dataframe to store the data"
   ]
  },
  {
   "cell_type": "code",
   "execution_count": 26,
   "metadata": {},
   "outputs": [],
   "source": [
    "image_param_column_list = ['UUID','DATE','TIME','RUNWAY','ROOM', 'SIDE', 'MARK', 'FLOOR', ' LIGHT', 'BACK', 'LONG DIST', 'LAT DIST', 'ANGLE']\n",
    "image_param_df = pd.DataFrame(columns=image_param_column_list)\n",
    "\n",
    "runway_dir = 'dataset/runway'\n",
    "norunway_dir = 'dataset/norunway'\n",
    "partrunway_dir = 'dataset/partrunway'\n",
    "\n",
    "try:\n",
    "    os.makedirs(norunway_dir)\n",
    "    os.makedirs(partrunway_dir)\n",
    "    os.makedirs(runway_dir)\n",
    "except FileExistsError:\n",
    "    print('Directories not created because they already exist')"
   ]
  },
  {
   "cell_type": "markdown",
   "metadata": {},
   "source": [
    "### Initialise variables"
   ]
  },
  {
   "cell_type": "code",
   "execution_count": 27,
   "metadata": {},
   "outputs": [],
   "source": [
    "longitudinal_distance_range = 120\n",
    "lateral_distance_range = 120\n",
    "axis_angle_range = 90\n",
    "longitudinal_distance = 0\n",
    "lateral_distance = 0\n",
    "axis_angle = 0\n",
    "\n",
    "button_layout = widgets.Layout(width='128px', height='64px')\n",
    "text_layout = widgets.Layout(width='200px', height='64px')"
   ]
  },
  {
   "cell_type": "markdown",
   "metadata": {},
   "source": [
    "### Prepare Interface"
   ]
  },
  {
   "cell_type": "code",
   "execution_count": 28,
   "metadata": {},
   "outputs": [],
   "source": [
    "# General parameters setting interface\n",
    "marking_selection = widgets.RadioButtons(\n",
    "    options=[('Light',0), ('Dark',1)],\n",
    "    description='Marking:',\n",
    "    disabled=False\n",
    ")\n",
    "floor_selection = widgets.RadioButtons(\n",
    "    options=[('Light',0), ('Dark',1)],\n",
    "    description='Floor:',\n",
    "    disabled=False\n",
    ")\n",
    "lighting_selection = widgets.RadioButtons(\n",
    "    options=[('Light',0), ('Dark',1)],\n",
    "    description='Lighting:',\n",
    "    disabled=False\n",
    ")\n",
    "background_selection = widgets.RadioButtons(\n",
    "    options=[('Minimalist',0), ('Clutered',1)],\n",
    "    description='Background:',\n",
    "    disabled=False\n",
    ")\n",
    "side_selection = widgets.RadioButtons(\n",
    "    options=[('LHS',0), ('RHS',1)],\n",
    "    description='Runway side:',\n",
    "    disabled=False\n",
    ")\n",
    "room_selection = widgets.Dropdown(\n",
    "    options=[('Living',0), ('Dining',1),('Kitchen',2), \n",
    "            ('Mudroom',3), ('Corridor',4),('Bathroom',5),\n",
    "            ('StudyC',6), ('StudyA',7),('Bedroom',8),\n",
    "            ('Backroom',9), ('Balcony',10)],\n",
    "    value=7,\n",
    "    description='Room:',\n",
    "    disabled=False,\n",
    ")\n",
    "\n",
    "# Grid parameters setting interface\n",
    "longitudinal_distance_display = widgets.IntText(description='Longitudinal distance', layout=text_layout, value=longitudinal_distance)\n",
    "lateral_distance_display = widgets.IntText(description='Lateral distance', layout=text_layout, value=lateral_distance)\n",
    "axis_angle_display = widgets.IntText(description='Axis angle', layout=text_layout, value=axis_angle)\n",
    "\n",
    "# Data collection buttons interface\n",
    "norunway_button = widgets.Button(description='No runway', button_style='danger', layout=button_layout)\n",
    "partrunway_button = widgets.Button(description='Partial runway', button_style='warning', layout=button_layout)\n",
    "runway_button = widgets.Button(description='Full runway', button_style='success', layout=button_layout)\n",
    "pass_button = widgets.Button(description='Pass',button_style='info', layout=button_layout)\n",
    "\n",
    "norunway_count = widgets.IntText(layout=button_layout, value=len(os.listdir(norunway_dir)))\n",
    "partrunway_count = widgets.IntText(layout=button_layout, value=len(os.listdir(partrunway_dir)))\n",
    "runway_count = widgets.IntText(layout=button_layout, value=len(os.listdir(runway_dir)))\n"
   ]
  },
  {
   "cell_type": "markdown",
   "metadata": {},
   "source": [
    "### Define functions"
   ]
  },
  {
   "cell_type": "code",
   "execution_count": 29,
   "metadata": {},
   "outputs": [],
   "source": [
    "def save_snapshot(directory, fileid):\n",
    "    image_path = os.path.join(directory, str(fileid) + '.jpg')\n",
    "    with open(image_path, 'wb') as f:\n",
    "        f.write(image.value)\n",
    "\n",
    "def save_parameters(fid, date, time, runway, room, side, marking, floor, lighting, background, long_dist, lat_dist, angle):\n",
    "    global image_param_column_list, image_param_df\n",
    "    temp_df = pd.DataFrame([[fid, date, time, runway, room, side, marking, floor, lighting, background, long_dist, lat_dist, angle]], columns=image_param_column_list)\n",
    "    image_param_df = image_param_df.append(temp_df)\n",
    "    pass\n",
    "\n",
    "def grid_pattern():\n",
    "    global longitudinal_distance, lateral_distance, axis_angle\n",
    "    cycle_completed = 0\n",
    "    if longitudinal_distance == longitudinal_distance_range:\n",
    "        longitudinal_distance = 0\n",
    "        if lateral_distance == lateral_distance_range:\n",
    "            lateral_distance = 0\n",
    "            if axis_angle == axis_angle_range:\n",
    "                axis_angle = 0\n",
    "            else:\n",
    "                axis_angle = axis_angle + 45\n",
    "        else:\n",
    "            lateral_distance = lateral_distance + 30\n",
    "    else:\n",
    "        longitudinal_distance = longitudinal_distance + 30\n",
    "    longitudinal_distance_display.value = longitudinal_distance\n",
    "    lateral_distance_display.value = lateral_distance\n",
    "    axis_angle_display.value = axis_angle\n",
    "\n",
    "def save_norunway():\n",
    "    global norunway_dir, norunway_count\n",
    "    global marking_selection, floor_selection, lighting_selection, background_selection\n",
    "    global longitudinal_distance, lateral_distance, axis_angle\n",
    "    fileid = uuid1()\n",
    "    date_now = str(date.today())\n",
    "    time_now = datetime.now().strftime(\"%H:%M:%S\")\n",
    "    save_snapshot(norunway_dir, fileid)\n",
    "    save_parameters(fileid, date_now, time_now, 0, room_selection.value, side_selection.value, marking_selection.value, floor_selection.value, lighting_selection.value, background_selection.value, longitudinal_distance, lateral_distance, axis_angle)\n",
    "    norunway_count.value = len(os.listdir(norunway_dir))\n",
    "    grid_pattern()\n",
    "\n",
    "def save_partrunway():\n",
    "    global partrunway_dir, partrunway_count\n",
    "    global marking_selection, floor_selection, lighting_selection, background_selection\n",
    "    global longitudinal_distance, lateral_distance, axis_angle\n",
    "    fileid = uuid1()\n",
    "    date_now = str(date.today())\n",
    "    time_now = datetime.now().strftime(\"%H:%M:%S\")\n",
    "    save_snapshot(partrunway_dir, fileid)\n",
    "    save_parameters(fileid, date_now, time_now, 1, room_selection.value, side_selection.value, marking_selection.value, floor_selection.value, lighting_selection.value, background_selection.value, longitudinal_distance, lateral_distance, axis_angle)\n",
    "    partrunway_count.value = len(os.listdir(partrunway_dir))\n",
    "    grid_pattern()\n",
    "\n",
    "def save_runway():\n",
    "    global runway_dir, runway_count\n",
    "    global marking_selection, floor_selection, lighting_selection, background_selection\n",
    "    global longitudinal_distance, lateral_distance, axis_angle\n",
    "    fileid = uuid1()\n",
    "    date_now = str(date.today())\n",
    "    time_now = datetime.now().strftime(\"%H:%M:%S\")\n",
    "    save_snapshot(runway_dir, fileid)\n",
    "    save_parameters(fileid, date_now, time_now, 2, room_selection.value, side_selection.value, marking_selection.value, floor_selection.value, lighting_selection.value, background_selection.value, longitudinal_distance, lateral_distance, axis_angle)\n",
    "    runway_count.value = len(os.listdir(runway_dir))\n",
    "    grid_pattern()\n",
    "    \n",
    "\n",
    "def save_pass():\n",
    "    global runway_marking_selection, floor_selection, lighting_selection, background_selection\n",
    "    global longitudinal_distance, lateral_distance, axis_angle\n",
    "    date_now = str(date.today())\n",
    "    time_now = datetime.now().strftime(\"%H:%M:%S\")    \n",
    "    save_parameters('na', date_now, time_now, 0, room_selection.value, side_selection.value, marking_selection.value, floor_selection.value, lighting_selection.value, background_selection.value, longitudinal_distance, lateral_distance, axis_angle)\n",
    "    grid_pattern()"
   ]
  },
  {
   "cell_type": "markdown",
   "metadata": {},
   "source": [
    "### Collect data"
   ]
  },
  {
   "cell_type": "code",
   "execution_count": 31,
   "metadata": {},
   "outputs": [
    {
     "data": {
      "application/vnd.jupyter.widget-view+json": {
       "model_id": "eb28117c3b784fdc982c83d1e8b8ebd9",
       "version_major": 2,
       "version_minor": 0
      },
      "text/plain": [
       "HBox(children=(RadioButtons(description='Marking:', options=(('Light', 0), ('Dark', 1)), value=0), RadioButton…"
      ]
     },
     "metadata": {},
     "output_type": "display_data"
    },
    {
     "data": {
      "application/vnd.jupyter.widget-view+json": {
       "model_id": "ca25b753db9946a99c562744c874e08f",
       "version_major": 2,
       "version_minor": 0
      },
      "text/plain": [
       "HBox(children=(RadioButtons(description='Lighting:', options=(('Light', 0), ('Dark', 1)), value=0), RadioButto…"
      ]
     },
     "metadata": {},
     "output_type": "display_data"
    },
    {
     "data": {
      "application/vnd.jupyter.widget-view+json": {
       "model_id": "062c0fcfb2984bedaa65eaa1925f30a5",
       "version_major": 2,
       "version_minor": 0
      },
      "text/plain": [
       "HBox(children=(Dropdown(description='Room:', index=7, options=(('Living', 0), ('Dining', 1), ('Kitchen', 2), (…"
      ]
     },
     "metadata": {},
     "output_type": "display_data"
    },
    {
     "data": {
      "application/vnd.jupyter.widget-view+json": {
       "model_id": "f85c9a64b1d641559ed57e004cbfb212",
       "version_major": 2,
       "version_minor": 0
      },
      "text/plain": [
       "HBox(children=(IntText(value=90, description='Longitudinal distance', layout=Layout(height='64px', width='200p…"
      ]
     },
     "metadata": {},
     "output_type": "display_data"
    },
    {
     "data": {
      "application/vnd.jupyter.widget-view+json": {
       "model_id": "f9139302a80f46e999bac65272c4f942",
       "version_major": 2,
       "version_minor": 0
      },
      "text/plain": [
       "HBox(children=(Button(button_style='success', description='Full runway', layout=Layout(height='64px', width='1…"
      ]
     },
     "metadata": {},
     "output_type": "display_data"
    },
    {
     "data": {
      "application/vnd.jupyter.widget-view+json": {
       "model_id": "fa46380b1ecc49b3bdecd3320b0cdf78",
       "version_major": 2,
       "version_minor": 0
      },
      "text/plain": [
       "HBox(children=(Button(button_style='warning', description='Partial runway', layout=Layout(height='64px', width…"
      ]
     },
     "metadata": {},
     "output_type": "display_data"
    },
    {
     "data": {
      "application/vnd.jupyter.widget-view+json": {
       "model_id": "3f9362f5f8d6490c937ed27b413d1094",
       "version_major": 2,
       "version_minor": 0
      },
      "text/plain": [
       "HBox(children=(Button(button_style='danger', description='No runway', layout=Layout(height='64px', width='128p…"
      ]
     },
     "metadata": {},
     "output_type": "display_data"
    },
    {
     "data": {
      "application/vnd.jupyter.widget-view+json": {
       "model_id": "23dd9d9734544e879c774f41965fa5f1",
       "version_major": 2,
       "version_minor": 0
      },
      "text/plain": [
       "Image(value=b'\\xff\\xd8\\xff\\xe0\\x00\\x10JFIF\\x00\\x01\\x01\\x00\\x00\\x01\\x00\\x01\\x00\\x00\\xff\\xdb\\x00C\\x00\\x02\\x01\\x0…"
      ]
     },
     "metadata": {},
     "output_type": "display_data"
    }
   ],
   "source": [
    "display(widgets.HBox([marking_selection, floor_selection]))\n",
    "display(widgets.HBox([lighting_selection, background_selection]))\n",
    "display(widgets.HBox([room_selection, side_selection]))\n",
    "\n",
    "display(widgets.HBox([longitudinal_distance_display, lateral_distance_display, axis_angle_display]))\n",
    "\n",
    "display(widgets.HBox([runway_button, runway_count, pass_button]))\n",
    "display(widgets.HBox([partrunway_button, partrunway_count]))\n",
    "display(widgets.HBox([norunway_button,norunway_count]))\n",
    "\n",
    "display(image, width = image_resolution, height = image_resolution)\n",
    "\n",
    "norunway_button.on_click(lambda x: save_norunway())\n",
    "partrunway_button.on_click(lambda x: save_partrunway())\n",
    "runway_button.on_click(lambda x: save_runway())\n",
    "pass_button.on_click(lambda x: save_pass())\n"
   ]
  },
  {
   "cell_type": "markdown",
   "metadata": {},
   "source": [
    "### Save Image parameters to dedicated .csv file"
   ]
  },
  {
   "cell_type": "code",
   "execution_count": 32,
   "metadata": {},
   "outputs": [],
   "source": [
    "now = datetime.now().strftime(\"%d%m%Y_%H%M%S\")\n",
    "image_param_df.to_csv('dataset/Image_Parameters_' + now + '.csv')\n"
   ]
  },
  {
   "cell_type": "markdown",
   "metadata": {},
   "source": [
    "### Zip dataset folder for export"
   ]
  },
  {
   "cell_type": "code",
   "execution_count": 34,
   "metadata": {},
   "outputs": [],
   "source": [
    "!zip -r -q dataset.zip dataset"
   ]
  },
  {
   "cell_type": "code",
   "execution_count": null,
   "metadata": {},
   "outputs": [],
   "source": []
  },
  {
   "cell_type": "code",
   "execution_count": null,
   "metadata": {},
   "outputs": [],
   "source": []
  }
 ],
 "metadata": {
  "kernelspec": {
   "display_name": "Python 3",
   "language": "python",
   "name": "python3"
  },
  "language_info": {
   "codemirror_mode": {
    "name": "ipython",
    "version": 3
   },
   "file_extension": ".py",
   "mimetype": "text/x-python",
   "name": "python",
   "nbconvert_exporter": "python",
   "pygments_lexer": "ipython3",
   "version": "3.6.9"
  }
 },
 "nbformat": 4,
 "nbformat_minor": 4
}
