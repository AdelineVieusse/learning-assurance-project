{
 "cells": [
  {
   "cell_type": "markdown",
   "metadata": {
    "id": "uECrg8NdfkrV"
   },
   "source": [
    "# Temperature Scaling"
   ]
  },
  {
   "cell_type": "markdown",
   "metadata": {
    "id": "Yf3wXQfAfkra"
   },
   "source": [
    "### Mount drive"
   ]
  },
  {
   "cell_type": "code",
   "execution_count": null,
   "metadata": {
    "colab": {
     "base_uri": "https://localhost:8080/"
    },
    "id": "T5Vy483rfkrb",
    "outputId": "db9815c1-2054-4699-d944-aec77d97a7b1"
   },
   "outputs": [],
   "source": [
    "from google.colab import drive\n",
    "drive.mount('/content/drive')"
   ]
  },
  {
   "cell_type": "markdown",
   "metadata": {
    "id": "Vn_L6o4efkrb"
   },
   "source": [
    "### Import required libraries"
   ]
  },
  {
   "cell_type": "code",
   "execution_count": null,
   "metadata": {
    "id": "7j10F_Sefkrc"
   },
   "outputs": [],
   "source": [
    "import torch\n",
    "import torchvision\n",
    "import torchvision.transforms as transforms\n",
    "import matplotlib.pyplot as plt\n",
    "import numpy as np\n",
    "import pandas as pd\n",
    "import torch.nn as nn\n",
    "import torch.nn.functional as F\n",
    "import torch.optim as optim\n",
    "import torchvision.datasets as datasets\n",
    "from torch.utils.tensorboard import SummaryWriter\n",
    "from datetime import datetime\n",
    "from datetime import date\n",
    "from itertools import product\n",
    "import os\n",
    "import torchvision.models as tmodels\n",
    "from functools import partial\n",
    "import collections"
   ]
  },
  {
   "cell_type": "markdown",
   "metadata": {},
   "source": [
    "Below code reused from https://github.com/gpleiss/temperature_scaling\n",
    "\n",
    "\" On Calibration of Modern Neural Networks\"\n",
    "Chuan Guo, Geoff Pleiss, Yu Sun, Kilian Q. Weinberger\n",
    "https://arxiv.org/abs/1706.04599"
   ]
  },
  {
   "cell_type": "code",
   "execution_count": null,
   "metadata": {
    "id": "MoP-AfO6fkrd"
   },
   "outputs": [],
   "source": [
    "%run '/content/drive/MyDrive/KASHIKO/MODULES/temperature_scaling.py'"
   ]
  },
  {
   "cell_type": "markdown",
   "metadata": {
    "id": "YGdpU16Qfkrd"
   },
   "source": [
    "### Prepare data"
   ]
  },
  {
   "cell_type": "code",
   "execution_count": null,
   "metadata": {
    "id": "B5pmXprvfkre"
   },
   "outputs": [],
   "source": [
    "norm_param_dataset_ref = \"AVG\"\n",
    "dataset_name = \"TEST_0_FINAL\""
   ]
  },
  {
   "cell_type": "code",
   "execution_count": null,
   "metadata": {
    "id": "CeTH9uM2fkre"
   },
   "outputs": [],
   "source": [
    "norm_param_df = pd.read_csv('/content/drive/MyDrive/KASHIKO/DATASET/TRG_DATASET_NORM_PARAM.csv')\n",
    "\n",
    "meanR = norm_param_df.loc[norm_param_df[\"Dataset\"] == str(norm_param_dataset_ref), \"meanR\"].item()\n",
    "meanG = norm_param_df.loc[norm_param_df[\"Dataset\"] == str(norm_param_dataset_ref), \"meanG\"].item()\n",
    "meanB = norm_param_df.loc[norm_param_df[\"Dataset\"] == str(norm_param_dataset_ref), \"meanB\"].item()\n",
    "\n",
    "stdR = norm_param_df.loc[norm_param_df[\"Dataset\"] == str(norm_param_dataset_ref), \"stdR\"].item()\n",
    "stdG = norm_param_df.loc[norm_param_df[\"Dataset\"] == str(norm_param_dataset_ref), \"stdG\"].item()\n",
    "stdB = norm_param_df.loc[norm_param_df[\"Dataset\"] == str(norm_param_dataset_ref), \"stdB\"].item()"
   ]
  },
  {
   "cell_type": "code",
   "execution_count": null,
   "metadata": {
    "id": "ikTs4voKfkrf"
   },
   "outputs": [],
   "source": [
    "dataset = datasets.ImageFolder(\n",
    "    '/content/drive/MyDrive/KASHIKO/DATASET/' + dataset_name,\n",
    "    transforms.Compose([\n",
    "        transforms.ToTensor(),\n",
    "        transforms.Normalize((meanR, meanG, meanB), (stdR, stdG, stdB))\n",
    "    ])\n",
    ")\n",
    "_, short_dataset = torch.utils.data.random_split(dataset, [len(dataset) - 10, 10])\n",
    "_, long_dataset = torch.utils.data.random_split(dataset, [len(dataset) - 100, 100])\n",
    "_, extra_long_dataset = torch.utils.data.random_split(dataset, [len(dataset) - 2000, 2000])"
   ]
  },
  {
   "cell_type": "code",
   "execution_count": null,
   "metadata": {
    "id": "SH2Z_W4Ff3c-"
   },
   "outputs": [],
   "source": [
    "loader = torch.utils.data.DataLoader(\n",
    "        extra_long_dataset,\n",
    "        batch_size=1,\n",
    "        shuffle=False,\n",
    "        num_workers=2,\n",
    "        drop_last=True)"
   ]
  },
  {
   "cell_type": "markdown",
   "metadata": {
    "id": "pJEgdpudfkrg"
   },
   "source": [
    "### Load model"
   ]
  },
  {
   "cell_type": "code",
   "execution_count": null,
   "metadata": {
    "id": "d3swRMZ1fkrg"
   },
   "outputs": [],
   "source": [
    "class Net(nn.Module):\n",
    "    def __init__(self):\n",
    "        super(Net, self).__init__()\n",
    "        self.conv1 = nn.Conv2d(3, 12, 5)\n",
    "        self.bn1 = nn.BatchNorm2d(12)\n",
    "        self.pool1 = nn.MaxPool2d(2, 2)\n",
    "        self.conv2 = nn.Conv2d(12, 24, 5)\n",
    "        self.bn2 = nn.BatchNorm2d(24)\n",
    "        self.pool2 = nn.MaxPool2d(2, 2)\n",
    "        self.fc1 = nn.Linear(24*53*53, 120)\n",
    "        self.fc2 = nn.Linear(120, 84)\n",
    "        self.fc3 = nn.Linear(84, 2)\n",
    "    def forward(self, x):\n",
    "        x = self.pool1(F.relu(self.bn1(self.conv1(x))))\n",
    "        x = self.pool2(F.relu(self.bn2(self.conv2(x))))\n",
    "        x = x.view(-1,24*53*53)\n",
    "        x = F.relu(self.fc1(x))\n",
    "        x = F.relu(self.fc2(x))\n",
    "        x = self.fc3(x)\n",
    "        return x"
   ]
  },
  {
   "cell_type": "code",
   "execution_count": null,
   "metadata": {
    "colab": {
     "base_uri": "https://localhost:8080/"
    },
    "id": "Nz_Cr6flfkrh",
    "outputId": "d5e22242-dd53-468c-ae6a-7ca7b0137d24"
   },
   "outputs": [],
   "source": [
    "net1 = Net()\n",
    "state_dict1 = torch.load('/content/drive/MyDrive/KASHIKO/MODELS/model_2021-05-29_12:16:11_ trg_dataset1 batch_size=100 learning_rate=0.001 scheduler_step_size=5 scheduler_gamma=1 weight_decay=0 epoch_number=11 accuracy=97.6.pth')\n",
    "net1.load_state_dict(state_dict1)"
   ]
  },
  {
   "cell_type": "code",
   "execution_count": null,
   "metadata": {
    "colab": {
     "base_uri": "https://localhost:8080/"
    },
    "id": "du3vKPvM27JR",
    "outputId": "db7f79a4-b828-4599-b900-8c45dde1e042"
   },
   "outputs": [],
   "source": [
    "net2 = Net()\n",
    "state_dict2 = torch.load('/content/drive/MyDrive/KASHIKO/MODELS/model_2021-05-29_18:41:53_ trg_dataset2 batch_size=100 learning_rate=0.001 scheduler_step_size=5 scheduler_gamma=1 weight_decay=0 epoch_number=16 accuracy=98.1.pth')\n",
    "net2.load_state_dict(state_dict2)"
   ]
  },
  {
   "cell_type": "code",
   "execution_count": null,
   "metadata": {
    "colab": {
     "base_uri": "https://localhost:8080/"
    },
    "id": "GTdW9jfz29t-",
    "outputId": "7d0afc3c-71f2-424b-ad92-796af1636074"
   },
   "outputs": [],
   "source": [
    "net3 = Net()\n",
    "state_dict3 = torch.load('/content/drive/MyDrive/KASHIKO/MODELS/model_2021-05-30_08:24:13_ trg_dataset3 batch_size=100 learning_rate=0.001 scheduler_step_size=5 scheduler_gamma=1 weight_decay=0 epoch_number=19 accuracy=98.2.pth')\n",
    "net3.load_state_dict(state_dict3)"
   ]
  },
  {
   "cell_type": "markdown",
   "metadata": {},
   "source": [
    "### Compute Temperatur Scaling Coefficients"
   ]
  },
  {
   "cell_type": "code",
   "execution_count": null,
   "metadata": {
    "id": "WecM6lbWfkri"
   },
   "outputs": [],
   "source": [
    "scaled_model = ModelWithTemperature(net3)"
   ]
  },
  {
   "cell_type": "code",
   "execution_count": null,
   "metadata": {
    "colab": {
     "base_uri": "https://localhost:8080/"
    },
    "id": "ekV5VFlffkri",
    "outputId": "0ac02a4b-913a-42b5-a476-b1c793fba192"
   },
   "outputs": [],
   "source": [
    "scaled_model.set_temperature(loader)"
   ]
  },
  {
   "cell_type": "markdown",
   "metadata": {
    "id": "fhTjk9po5Pgv"
   },
   "source": [
    "### Save Temperature Factor for each model"
   ]
  },
  {
   "cell_type": "code",
   "execution_count": null,
   "metadata": {
    "id": "tk12IAEDfkri"
   },
   "outputs": [],
   "source": [
    "temp_factor_net1 = 3.661\n",
    "temp_factor_net2 = 4.289\n",
    "temp_factor_net3 = 3.913"
   ]
  },
  {
   "cell_type": "markdown",
   "metadata": {
    "id": "XQE4VoIb5V8m"
   },
   "source": [
    "### Test performance improvement using temperature scaling"
   ]
  },
  {
   "cell_type": "code",
   "execution_count": null,
   "metadata": {
    "colab": {
     "base_uri": "https://localhost:8080/"
    },
    "id": "we3REmh0fkrj",
    "outputId": "3437498b-c926-4480-f21a-1897d3f40ccd"
   },
   "outputs": [],
   "source": [
    "total_all = 0\n",
    "correct_all = 0\n",
    "total_sure = 0\n",
    "correct_sure = 0\n",
    "total_sure_temp = 0\n",
    "correct_sure_temp = 0\n",
    "\n",
    "m = nn.Softmax(dim=1)\n",
    "with torch.no_grad():\n",
    "  for images, labels in loader:\n",
    "    net3.eval()\n",
    "    out = net3(images)\n",
    "    _, predicted = torch.max(out.data, 1)\n",
    "    predicted_soft = m(out)\n",
    "    predicted_soft_temp = m(out/temp_factor_net3)\n",
    "    if np.amax(predicted_soft.numpy()) > 0.97:\n",
    "      total_sure += labels.size(0)\n",
    "      correct_sure += (predicted == labels).sum().item()\n",
    "    if np.amax(predicted_soft_temp.numpy()) > 0.73:\n",
    "      total_sure_temp += labels.size(0)\n",
    "      correct_sure_temp += (predicted == labels).sum().item()\n",
    "    total_all += labels.size(0)\n",
    "    correct_all += (predicted == labels).sum().item()\n",
    "        \n",
    "test_accuracy_all = 100 * correct_all / total_all\n",
    "test_accuracy_sure = 100 * correct_sure / total_sure\n",
    "test_accuracy_sure_temp = 100 * correct_sure_temp / total_sure_temp\n",
    "\n",
    "print(test_accuracy_all)\n",
    "print(test_accuracy_sure)\n",
    "print(test_accuracy_sure_temp)\n",
    "\n",
    "print(100 * total_sure/total_all)\n",
    "print(100 * total_sure_temp/total_all)"
   ]
  }
 ],
 "metadata": {
  "accelerator": "GPU",
  "colab": {
   "collapsed_sections": [],
   "machine_shape": "hm",
   "name": "temperature_scaling.ipynb",
   "provenance": []
  },
  "kernelspec": {
   "display_name": "Python 3",
   "language": "python",
   "name": "python3"
  },
  "language_info": {
   "codemirror_mode": {
    "name": "ipython",
    "version": 3
   },
   "file_extension": ".py",
   "mimetype": "text/x-python",
   "name": "python",
   "nbconvert_exporter": "python",
   "pygments_lexer": "ipython3",
   "version": "3.8.5"
  }
 },
 "nbformat": 4,
 "nbformat_minor": 1
}
