{
 "cells": [
  {
   "cell_type": "markdown",
   "metadata": {
    "id": "UTvlGsIPUcle"
   },
   "source": [
    "# Network Verification using DNNV"
   ]
  },
  {
   "cell_type": "markdown",
   "metadata": {
    "id": "_C1s4OrxUclg"
   },
   "source": [
    "### Mount Google Drive"
   ]
  },
  {
   "cell_type": "code",
   "execution_count": null,
   "metadata": {
    "colab": {
     "base_uri": "https://localhost:8080/"
    },
    "id": "dBjQsibLUclh",
    "outputId": "62a898b2-05bb-4b8e-a252-e644c8b0f175"
   },
   "outputs": [],
   "source": [
    "from google.colab import drive\n",
    "drive.mount('/content/drive')"
   ]
  },
  {
   "cell_type": "markdown",
   "metadata": {
    "id": "6_GDFdWxUclh"
   },
   "source": [
    "### Import required libraries"
   ]
  },
  {
   "cell_type": "code",
   "execution_count": null,
   "metadata": {
    "id": "ftcSh3uDU4wb"
   },
   "outputs": [],
   "source": [
    "import torch\n",
    "import torch.onnx\n",
    "import numpy as np\n",
    "import torch.nn as nn\n",
    "import torch.nn.functional as F\n",
    "from PIL import Image\n",
    "import os, sys\n",
    "import cv2\n"
   ]
  },
  {
   "cell_type": "markdown",
   "metadata": {
    "id": "KIp4bTdfYPNJ"
   },
   "source": [
    "### Install DNNV + dependencies + create virtual environment"
   ]
  },
  {
   "cell_type": "markdown",
   "metadata": {
    "colab": {
     "base_uri": "https://localhost:8080/",
     "height": 128
    },
    "id": "UizX5SC4YaIB",
    "outputId": "d89e1e29-750c-453f-f7a3-75a78c748754"
   },
   "source": [
    "### Run the following command lines\n",
    "sudo apt-get install python3-venv\n",
    "\n",
    "sudo apt-get install python3.7-venv\n",
    "\n",
    "\n",
    "python3.7 -m venv .venv\n",
    "\n",
    ". .venv/bin/activate\n",
    "\n",
    "pip install --upgrade pip \n",
    "\n",
    "pip install flit\n",
    "\n",
    "flit install -s\n",
    "\n",
    "\n",
    "pip install dnnv\n",
    "\n",
    "pip install onnx\n",
    "\n",
    "pip install numpy==1.16.0\n",
    "\n",
    "\n",
    "git clone https://github.com/dlshriver/DNNV.git\n",
    "\n",
    "cd DNNV\n",
    "\n",
    "./manage.sh init\n",
    "\n",
    ". .env.d/openenv.sh\n",
    "\n",
    "./manage.sh install reluplex\n",
    "\n",
    "./manage.sh install eran \n",
    "\n",
    "\n",
    "Other verifiers can be installed:planet mipverify neurify plnn marabou nnenum verinet"
   ]
  },
  {
   "cell_type": "markdown",
   "metadata": {
    "id": "nVhqx_TTUclk"
   },
   "source": [
    "### Convert models to ONNX"
   ]
  },
  {
   "cell_type": "code",
   "execution_count": null,
   "metadata": {
    "id": "up7jCkZLUcll"
   },
   "outputs": [],
   "source": [
    "class Net(nn.Module):\n",
    "    def __init__(self):\n",
    "        super(Net, self).__init__()\n",
    "        self.conv1 = nn.Conv2d(3, 12, 5)\n",
    "        self.bn1 = nn.BatchNorm2d(12)\n",
    "        self.pool1 = nn.MaxPool2d(2, 2)\n",
    "        self.conv2 = nn.Conv2d(12, 24, 5)\n",
    "        self.bn2 = nn.BatchNorm2d(24)\n",
    "        self.pool2 = nn.MaxPool2d(2, 2)\n",
    "        self.fc1 = nn.Linear(24*53*53, 120)\n",
    "        self.fc2 = nn.Linear(120, 84)\n",
    "        self.fc3 = nn.Linear(84, 2)\n",
    "    def forward(self, x):\n",
    "        x = self.pool1(F.relu(self.bn1(self.conv1(x))))\n",
    "        x = self.pool2(F.relu(self.bn2(self.conv2(x))))\n",
    "        x = x.view(-1,24*53*53)\n",
    "        x = F.relu(self.fc1(x))\n",
    "        x = F.relu(self.fc2(x))\n",
    "        x = self.fc3(x)\n",
    "        return x"
   ]
  },
  {
   "cell_type": "code",
   "execution_count": null,
   "metadata": {
    "id": "DQwpmIp1Ucll"
   },
   "outputs": [],
   "source": [
    "net1 = Net()\n",
    "state_dict1 = torch.load('/content/drive/MyDrive/KASHIKO/MODELS/best_model1.pth')\n",
    "net1.load_state_dict(state_dict1)\n",
    "dummy_input = torch.randn(1, 3, 224, 224)\n",
    "torch.onnx.export(net1, dummy_input, \"/content/drive/MyDrive/KASHIKO/MODELS/best_model1.onnx\")"
   ]
  },
  {
   "cell_type": "code",
   "execution_count": null,
   "metadata": {
    "id": "5ddhuBnBZGQJ"
   },
   "outputs": [],
   "source": [
    "net2 = Net()\n",
    "state_dict2 = torch.load('/content/drive/MyDrive/KASHIKO/MODELS/best_model2.pth')\n",
    "net2.load_state_dict(state_dict2)\n",
    "dummy_input = torch.randn(1, 3, 224, 224)\n",
    "torch.onnx.export(net2, dummy_input, \"/content/drive/MyDrive/KASHIKO/MODELS/best_model2.onnx\")"
   ]
  },
  {
   "cell_type": "code",
   "execution_count": null,
   "metadata": {
    "id": "40YLBmJZZGZP"
   },
   "outputs": [],
   "source": [
    "net3 = Net()\n",
    "state_dict3 = torch.load('/content/drive/MyDrive/KASHIKO/MODELS/best_model3.pth')\n",
    "net3.load_state_dict(state_dict3)\n",
    "dummy_input = torch.randn(1, 3, 224, 224)\n",
    "torch.onnx.export(net3, dummy_input, \"/content/drive/MyDrive/KASHIKO/MODELS/best_model3.onnx\")"
   ]
  },
  {
   "cell_type": "markdown",
   "metadata": {
    "id": "dq_dG7JfUcll"
   },
   "source": [
    "### Create property file and save to Drive (manually)"
   ]
  },
  {
   "cell_type": "markdown",
   "metadata": {
    "id": "jgULgt_xhcNZ"
   },
   "source": [
    "### Template of property file (.py)\n",
    "from dnnv.properties import *\n",
    "import numpy as np\n",
    "\n",
    "N = Network(\"N\")\n",
    "x = Image(\"{input_path}\")\n",
    "\n",
    "epsilon = Parameter(\"epsilon\", type=float, default=(2.0 / 255))\n",
    "true_class = {true_class}\n",
    "\n",
    "Forall(\n",
    "    x_,\n",
    "    Implies(\n",
    "        ((x - epsilon) < x_ < (x + epsilon)) & (0 < x_ < 1),\n",
    "        argmax(N(x_)) == true_class,\n",
    "    ),\n",
    ")"
   ]
  },
  {
   "cell_type": "markdown",
   "metadata": {
    "id": "WQtw-LLyUcll"
   },
   "source": [
    "### Convert image to .npy"
   ]
  },
  {
   "cell_type": "code",
   "execution_count": null,
   "metadata": {
    "id": "2mvjISprZn6D"
   },
   "outputs": [],
   "source": [
    "im = Image.open('/content/drive/MyDrive/KASHIKO/DATASET/VERIF/holdingpoint.jpg').convert(\"RGB\")\n",
    "im = np.transpose(im,(2, 0, 1))\n",
    "im = np.array(im)\n",
    "np.save(\"/content/drive/MyDrive/KASHIKO/DATASET/VERIF/holdingpoint.npy\",im)"
   ]
  },
  {
   "cell_type": "code",
   "execution_count": null,
   "metadata": {
    "id": "nuUCx2woFzh2"
   },
   "outputs": [],
   "source": [
    "im = Image.open('/content/drive/MyDrive/KASHIKO/DATASET/VERIF/noholdingpoint.jpg').convert(\"RGB\")\n",
    "im = np.transpose(im,(2, 0, 1))\n",
    "im = np.array(im)\n",
    "np.save(\"/content/drive/MyDrive/KASHIKO/DATASET/VERIF/noholdingpoint.npy\",im)"
   ]
  },
  {
   "cell_type": "markdown",
   "metadata": {
    "id": "JBzv5_V6Yn_i"
   },
   "source": [
    "### Launch analysis"
   ]
  },
  {
   "cell_type": "markdown",
   "metadata": {
    "id": "DuMNfTnoYruS"
   },
   "source": [
    "### Run the following command lines\n",
    "python3 -m dnnv --reluplex --network N /content/drive/MyDrive/KASHIKO/MODELS/best_model1.onnx /content/drive/MyDrive/KASHIKO/property_holdingpoint.py\n",
    "\n",
    "python3 -m dnnv --eran --network N /content/drive/MyDrive/KASHIKO/MODELS/best_model1.onnx /content/drive/MyDrive/KASHIKO/property_holdingpoint.py\n",
    "\n",
    "python3 -m dnnv --reluplex --network N /content/drive/MyDrive/KASHIKO/MODELS/best_model1.onnx /content/drive/MyDrive/KASHIKO/property_noholdingpoint.py\n",
    "\n",
    "python3 -m dnnv --eran --network N /content/drive/MyDrive/KASHIKO/MODELS/best_model1.onnx /content/drive/MyDrive/KASHIKO/property_noholdingpoint.py"
   ]
  },
  {
   "cell_type": "markdown",
   "metadata": {
    "id": "hPZ0i5rMb7DT"
   },
   "source": [
    "### Run the following command lines\n",
    "python3 -m dnnv --reluplex --network N /content/drive/MyDrive/KASHIKO/MODELS/best_model2.onnx /content/drive/MyDrive/KASHIKO/property_holdingpoint.py\n",
    "\n",
    "python3 -m dnnv --eran --network N /content/drive/MyDrive/KASHIKO/MODELS/best_model2.onnx.onnx /content/drive/MyDrive/KASHIKO/property_holdingpoint.py\n",
    "\n",
    "python3 -m dnnv --reluplex --network N /content/drive/MyDrive/KASHIKO/MODELS/best_model2.onnx /content/drive/MyDrive/KASHIKO/property_noholdingpoint.py\n",
    "\n",
    "python3 -m dnnv --eran --network N /content/drive/MyDrive/KASHIKO/MODELS/best_model2.onnx /content/drive/MyDrive/KASHIKO/property_noholdingpoint.py"
   ]
  },
  {
   "cell_type": "markdown",
   "metadata": {
    "id": "YX9xWNXCeFTz"
   },
   "source": [
    "### Run the following command lines\n",
    "python3 -m dnnv --reluplex --network N /content/drive/MyDrive/KASHIKO/MODELS/best_model3.onnx /content/drive/MyDrive/KASHIKO/property_holdingpoint.py\n",
    "\n",
    "python3 -m dnnv --eran --network N /content/drive/MyDrive/KASHIKO/MODELS/best_model3.onnx.onnx /content/drive/MyDrive/KASHIKO/property_holdingpoint.py\n",
    "\n",
    "python3 -m dnnv --reluplex --network N /content/drive/MyDrive/KASHIKO/MODELS/best_model3.onnx /content/drive/MyDrive/KASHIKO/property_noholdingpoint.py\n",
    "\n",
    "python3 -m dnnv --eran --network N /content/drive/MyDrive/KASHIKO/MODELS/best_model3.onnx /content/drive/MyDrive/KASHIKO/property_noholdingpoint.py"
   ]
  }
 ],
 "metadata": {
  "accelerator": "GPU",
  "colab": {
   "collapsed_sections": [],
   "machine_shape": "hm",
   "name": "model_verification_DNNV.ipynb",
   "provenance": []
  },
  "kernelspec": {
   "display_name": "Python 3",
   "language": "python",
   "name": "python3"
  },
  "language_info": {
   "codemirror_mode": {
    "name": "ipython",
    "version": 3
   },
   "file_extension": ".py",
   "mimetype": "text/x-python",
   "name": "python",
   "nbconvert_exporter": "python",
   "pygments_lexer": "ipython3",
   "version": "3.8.5"
  }
 },
 "nbformat": 4,
 "nbformat_minor": 1
}
