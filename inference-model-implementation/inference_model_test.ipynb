{
 "cells": [
  {
   "cell_type": "markdown",
   "metadata": {},
   "source": [
    "# Inference Model Test"
   ]
  },
  {
   "cell_type": "markdown",
   "metadata": {},
   "source": [
    "### Import required libraries"
   ]
  },
  {
   "cell_type": "code",
   "execution_count": 1,
   "metadata": {},
   "outputs": [],
   "source": [
    "import torch\n",
    "import torchvision\n",
    "import torch.nn as nn\n",
    "import cv2\n",
    "import numpy as np\n",
    "import pandas as pd\n",
    "import traitlets\n",
    "from IPython.display import display\n",
    "import ipywidgets.widgets as widgets\n",
    "from jetbot import Camera, bgr8_to_jpeg\n",
    "from jetbot import Robot\n",
    "import torch.nn.functional as F\n",
    "import time\n",
    "import pickle\n",
    "import sklearn\n",
    "from sklearn.svm import OneClassSVM\n",
    "import random\n",
    "import collections\n",
    "import torchvision.datasets as datasets\n",
    "import torchvision.transforms as transforms"
   ]
  },
  {
   "cell_type": "code",
   "execution_count": 2,
   "metadata": {},
   "outputs": [
    {
     "name": "stdout",
     "output_type": "stream",
     "text": [
      "1.3.0\n",
      "0.4.0a0+d31eafa\n",
      "The scikit-learn version is 0.19.1.\n"
     ]
    }
   ],
   "source": [
    "print(torch.__version__)\n",
    "print(torchvision.__version__)\n",
    "print('The scikit-learn version is {}.'.format(sklearn.__version__))"
   ]
  },
  {
   "cell_type": "markdown",
   "metadata": {},
   "source": [
    "### Load models"
   ]
  },
  {
   "cell_type": "code",
   "execution_count": 3,
   "metadata": {},
   "outputs": [],
   "source": [
    "class Net(nn.Module):\n",
    "    def __init__(self):\n",
    "        super(Net, self).__init__()\n",
    "        self.conv1 = nn.Conv2d(3, 12, 5)\n",
    "        self.bn1 = nn.BatchNorm2d(12)\n",
    "        self.pool1 = nn.MaxPool2d(2, 2)\n",
    "        self.conv2 = nn.Conv2d(12, 24, 5)\n",
    "        self.bn2 = nn.BatchNorm2d(24)\n",
    "        self.pool2 = nn.MaxPool2d(2, 2)\n",
    "        self.fc1 = nn.Linear(24*53*53, 120)\n",
    "        self.fc2 = nn.Linear(120, 84)\n",
    "        self.fc3 = nn.Linear(84, 2)\n",
    "    def forward(self, x):\n",
    "        x = self.pool1(F.relu(self.bn1(self.conv1(x))))\n",
    "        x = self.pool2(F.relu(self.bn2(self.conv2(x))))\n",
    "        x = x.view(-1,24*53*53)\n",
    "        x = F.relu(self.fc1(x))\n",
    "        x = F.relu(self.fc2(x))\n",
    "        x = self.fc3(x)\n",
    "        return x"
   ]
  },
  {
   "cell_type": "code",
   "execution_count": 4,
   "metadata": {},
   "outputs": [],
   "source": [
    "device = torch.device('cuda')"
   ]
  },
  {
   "cell_type": "code",
   "execution_count": 5,
   "metadata": {},
   "outputs": [
    {
     "data": {
      "text/plain": [
       "<All keys matched successfully>"
      ]
     },
     "execution_count": 5,
     "metadata": {},
     "output_type": "execute_result"
    }
   ],
   "source": [
    "net1 = Net()\n",
    "state_dict1 = torch.load('best_model1_pruned.pth')\n",
    "net1.load_state_dict(state_dict1)"
   ]
  },
  {
   "cell_type": "code",
   "execution_count": 6,
   "metadata": {},
   "outputs": [
    {
     "data": {
      "text/plain": [
       "<All keys matched successfully>"
      ]
     },
     "execution_count": 6,
     "metadata": {},
     "output_type": "execute_result"
    }
   ],
   "source": [
    "net2 = Net()\n",
    "state_dict2 = torch.load('best_model2_pruned.pth')\n",
    "net2.load_state_dict(state_dict2)"
   ]
  },
  {
   "cell_type": "code",
   "execution_count": 7,
   "metadata": {},
   "outputs": [
    {
     "data": {
      "text/plain": [
       "<All keys matched successfully>"
      ]
     },
     "execution_count": 7,
     "metadata": {},
     "output_type": "execute_result"
    }
   ],
   "source": [
    "net3 = Net()\n",
    "state_dict3 = torch.load('best_model3_pruned.pth')\n",
    "net3.load_state_dict(state_dict3)"
   ]
  },
  {
   "cell_type": "code",
   "execution_count": 8,
   "metadata": {},
   "outputs": [],
   "source": [
    "net1 = net1.to(device)\n",
    "net2 = net2.to(device)\n",
    "net3 = net3.to(device)"
   ]
  },
  {
   "cell_type": "markdown",
   "metadata": {},
   "source": [
    "### Retrieve data"
   ]
  },
  {
   "cell_type": "code",
   "execution_count": 9,
   "metadata": {},
   "outputs": [],
   "source": [
    "# Retrieve normalisation parameters \n",
    "\n",
    "norm_param_df = pd.read_csv('TRG_DATASET_NORM_PARAM.csv')\n",
    "\n",
    "meanR = norm_param_df.loc[norm_param_df[\"Dataset\"] == \"AVG\", \"meanR\"].item()\n",
    "meanG = norm_param_df.loc[norm_param_df[\"Dataset\"] == \"AVG\", \"meanG\"].item()\n",
    "meanB = norm_param_df.loc[norm_param_df[\"Dataset\"] == \"AVG\", \"meanB\"].item()\n",
    "\n",
    "stdR = norm_param_df.loc[norm_param_df[\"Dataset\"] == \"AVG\", \"stdR\"].item()\n",
    "stdG = norm_param_df.loc[norm_param_df[\"Dataset\"] == \"AVG\", \"stdG\"].item()\n",
    "stdB = norm_param_df.loc[norm_param_df[\"Dataset\"] == \"AVG\", \"stdB\"].item()\n"
   ]
  },
  {
   "cell_type": "code",
   "execution_count": 10,
   "metadata": {},
   "outputs": [],
   "source": [
    "dataset = datasets.ImageFolder(\n",
    "    'TEST_0_FINAL/',\n",
    "    transforms.Compose([\n",
    "        transforms.ToTensor(),\n",
    "        transforms.Normalize((meanR, meanG, meanB), (stdR, stdG, stdB))\n",
    "    ])\n",
    ")\n",
    "testloader = torch.utils.data.DataLoader(\n",
    "        dataset,\n",
    "        shuffle = False,\n",
    "        batch_size=1)"
   ]
  },
  {
   "cell_type": "markdown",
   "metadata": {},
   "source": [
    "### Run test Dataset through inference model"
   ]
  },
  {
   "cell_type": "code",
   "execution_count": 11,
   "metadata": {},
   "outputs": [],
   "source": [
    "threshold = 0.97\n",
    "threshold_TS = 0.73\n",
    "temp_factor_net1 = 3.661\n",
    "temp_factor_net2 = 4.289\n",
    "temp_factor_net3 = 3.913"
   ]
  },
  {
   "cell_type": "code",
   "execution_count": 12,
   "metadata": {},
   "outputs": [
    {
     "name": "stdout",
     "output_type": "stream",
     "text": [
      "Threshold: 0.97\n",
      "Model1: 79.55493741307372 85.46712802768167 80.3894297635605 277 295 70 77\n",
      "Model2: 77.88595271210013 88.3629191321499 70.51460361613351 280 280 85 74\n",
      "Model3: 77.32962447844228 85.8508604206501 72.73991655076495 236 320 45 118\n",
      "Final:  91.57894736842105                   79.27677329624478 253 269 20 28\n"
     ]
    }
   ],
   "source": [
    "total_all1 = 0\n",
    "correct_all1 = 0\n",
    "total_sure1 = 0\n",
    "correct_sure1 = 0\n",
    "total_all2 = 0\n",
    "correct_all2 = 0\n",
    "total_sure2 = 0\n",
    "correct_sure2 = 0\n",
    "total_all3 = 0\n",
    "correct_all3 = 0\n",
    "total_sure3 = 0\n",
    "correct_sure3 = 0\n",
    "total_final = 0\n",
    "correct_final = 0\n",
    "TP1 = 0\n",
    "TN1 = 0\n",
    "FP1 = 0\n",
    "FN1 = 0\n",
    "TP2 = 0\n",
    "TN2 = 0\n",
    "FP2 = 0\n",
    "FN2 = 0\n",
    "TP3 = 0\n",
    "TN3 = 0\n",
    "FP3 = 0\n",
    "FN3 = 0\n",
    "TP = 0\n",
    "TN = 0\n",
    "FP = 0\n",
    "FN = 0\n",
    "m = nn.Softmax(dim=1)\n",
    "\n",
    "with torch.no_grad():\n",
    "    for images, labels in testloader:\n",
    "        images = images.to(device)\n",
    "        labels = labels.to(device)\n",
    "        net1.eval()\n",
    "        out1 = net1(images)        \n",
    "        net2.eval()\n",
    "        out2 = net2(images)        \n",
    "        net3.eval()\n",
    "        out3 = net3(images)\n",
    "\n",
    "        _, predicted1 = torch.max(out1.data, 1)\n",
    "        _, predicted2 = torch.max(out2.data, 1)\n",
    "        _, predicted3 = torch.max(out3.data, 1)\n",
    "  \n",
    "        predicted_soft1 = m(out1)\n",
    "        predicted_soft2 = m(out2)\n",
    "        predicted_soft3 = m(out3)\n",
    "        true = labels.item() - 1\n",
    "\n",
    "        predicted_soft1_TS = F.softmax(out1/temp_factor_net1, dim=1)\n",
    "        predicted_soft2_TS = F.softmax(out2/temp_factor_net2, dim=1)\n",
    "        predicted_soft3_TS = F.softmax(out3/temp_factor_net3, dim=1)\n",
    "        \n",
    "        if np.amax(predicted_soft1.cpu().numpy()) > threshold:\n",
    "            total_sure1 += labels.size(0)\n",
    "            correct_sure1 += (predicted1 == true).sum().item()\n",
    "        total_all1 += labels.size(0)\n",
    "        correct_all1 += (predicted1 == true).sum().item()\n",
    "        TP1 += (predicted1 == labels - 1 & labels - 1 == 0).sum().item()\n",
    "        TN1 += (predicted1 == labels - 1 & labels - 1 == 1).sum().item()\n",
    "        FP1 += (predicted1 != labels - 1 & labels - 1 == 1).sum().item()\n",
    "        FN1 += (predicted1 != labels - 1 & labels - 1 == 0).sum().item()\n",
    "        prediction1 = predicted1.item()\n",
    "        if predicted1 == true:\n",
    "            correct1 = 1\n",
    "        else:\n",
    "            correct1 = 0\n",
    "\n",
    "        if np.amax(predicted_soft1.cpu().numpy()) > threshold:\n",
    "            sure1 = 1\n",
    "        else:\n",
    "            sure1 = 0\n",
    "          \n",
    "        if np.amax(predicted_soft2.cpu().numpy()) > threshold:\n",
    "            total_sure2 += labels.size(0)\n",
    "            correct_sure2 += (predicted2 == true).sum().item()\n",
    "        total_all2 += labels.size(0)\n",
    "        correct_all2 += (predicted2 == true).sum().item()\n",
    "        TP2 += (predicted2 == labels - 1 & labels - 1 == 0).sum().item()\n",
    "        TN2 += (predicted2 == labels - 1 & labels - 1 == 1).sum().item()\n",
    "        FP2 += (predicted2 != labels - 1 & labels - 1 == 1).sum().item()\n",
    "        FN2 += (predicted2 != labels - 1 & labels - 1 == 0).sum().item()\n",
    "        prediction2 = predicted2.item()\n",
    "        if predicted2 == true:\n",
    "            correct2 = 1\n",
    "        else:\n",
    "            correct2 = 0\n",
    "\n",
    "        if np.amax(predicted_soft2.cpu().numpy()) > threshold:\n",
    "            sure2 = 1\n",
    "        else:\n",
    "            sure2 = 0\n",
    "\n",
    "        if np.amax(predicted_soft3.cpu().numpy()) > threshold:\n",
    "            total_sure3 += labels.size(0)\n",
    "            correct_sure3 += (predicted3 == true).sum().item()\n",
    "        total_all3 += labels.size(0)\n",
    "        correct_all3 += (predicted3 == true).sum().item()\n",
    "        TP3 += (predicted3 == labels - 1 & labels - 1 == 0).sum().item()\n",
    "        TN3 += (predicted3 == labels - 1 & labels - 1 == 1).sum().item()\n",
    "        FP3 += (predicted3 != labels - 1 & labels - 1 == 1).sum().item()\n",
    "        FN3 += (predicted3 != labels - 1 & labels - 1 == 0).sum().item()\n",
    "        prediction3 = predicted3.item()\n",
    "        if predicted3 == true:\n",
    "            correct3 = 1\n",
    "        else:\n",
    "            correct3 = 0\n",
    "\n",
    "        if np.amax(predicted_soft3.cpu().numpy()) > threshold:\n",
    "            sure3 = 1\n",
    "        else:\n",
    "            sure3 = 0\n",
    "\n",
    "\n",
    "        if sure1 + sure2 + sure3 == 3:\n",
    "            if prediction1 + prediction2 + prediction3 >=2:\n",
    "                final_prediction = 1\n",
    "            else:\n",
    "                final_prediction = 0\n",
    "        elif sure1 + sure2 + sure3 == 2:\n",
    "            if sure1 == 0:\n",
    "                if prediction2 + prediction3 == 2:\n",
    "                    final_prediction = 1\n",
    "                elif prediction2 + prediction3 == 0:\n",
    "                    final_prediction = 0\n",
    "                else:\n",
    "                    final_prediction = -1\n",
    "            if sure2 == 0:\n",
    "                if prediction1 + prediction3 ==2:\n",
    "                    final_prediction = 1\n",
    "                elif prediction1 + prediction3 ==0:\n",
    "                    final_prediction = 0\n",
    "                else:\n",
    "                    final_prediction = -1\n",
    "            if sure3 == 0:\n",
    "                if prediction2 + prediction1 ==2:\n",
    "                    final_prediction = 1\n",
    "                elif prediction2 + prediction1 ==0:\n",
    "                    final_prediction = 0\n",
    "                else:\n",
    "                    final_prediction = -1\n",
    "            else:\n",
    "                final_prediction = -1\n",
    "          \n",
    "        if final_prediction != -1:\n",
    "            total_final += labels.size(0)\n",
    "            correct_final += (final_prediction == labels - 1).sum().item()\n",
    "            TP += (final_prediction == labels - 1 & labels - 1 == 0).sum().item()\n",
    "            TN += (final_prediction == labels - 1 & labels - 1 == 1).sum().item()\n",
    "            FP += (final_prediction != labels - 1 & labels - 1 == 1).sum().item()\n",
    "            FN += (final_prediction != labels - 1 & labels - 1 == 0).sum().item()\n",
    "                  \n",
    "\n",
    "test_accuracy_all1 = 100 * correct_all1 / total_all1\n",
    "test_accuracy_sure1 = 100 * correct_sure1 / total_sure1\n",
    "test_accuracy_all2 = 100 * correct_all2 / total_all2\n",
    "test_accuracy_sure2 = 100 * correct_sure2 / total_sure2\n",
    "test_accuracy_all3 = 100 * correct_all3 / total_all3\n",
    "test_accuracy_sure3 = 100 * correct_sure3 / total_sure3\n",
    "test_accuracy_final = 100 * correct_final / total_final\n",
    "print(\"Threshold:\", threshold)\n",
    "print(\"Model1:\", test_accuracy_all1, test_accuracy_sure1, 100 * total_sure1/total_all1, TP1, TN1, FP1, FN1)\n",
    "print(\"Model2:\", test_accuracy_all2, test_accuracy_sure2, 100 * total_sure2/total_all2, TP2, TN2, FP2, FN2)\n",
    "print(\"Model3:\", test_accuracy_all3, test_accuracy_sure3, 100 * total_sure3/total_all3, TP3, TN3, FP3, FN3)\n",
    "print(\"Final: \", test_accuracy_final, '                 ', 100 * total_final/total_all3, TP, TN, FP, FN)"
   ]
  }
 ],
 "metadata": {
  "kernelspec": {
   "display_name": "Python 3",
   "language": "python",
   "name": "python3"
  },
  "language_info": {
   "codemirror_mode": {
    "name": "ipython",
    "version": 3
   },
   "file_extension": ".py",
   "mimetype": "text/x-python",
   "name": "python",
   "nbconvert_exporter": "python",
   "pygments_lexer": "ipython3",
   "version": "3.8.5"
  }
 },
 "nbformat": 4,
 "nbformat_minor": 4
}
